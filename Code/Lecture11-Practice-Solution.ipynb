{
 "cells": [
  {
   "cell_type": "code",
   "execution_count": 1,
   "metadata": {
    "collapsed": true
   },
   "outputs": [],
   "source": [
    "import pandas as pd\n",
    "import matplotlib.pyplot as plt\n",
    "import numpy as np\n",
    "from sklearn import metrics\n",
    "from sklearn.tree import DecisionTreeRegressor   #Decision Tree Regressor\n",
    "from sklearn.tree import DecisionTreeClassifier #Decision Tree Classifier\n",
    "from sklearn.cross_validation import train_test_split\n",
    "from sklearn.cross_validation import cross_val_score\n",
    "\n",
    "%matplotlib inline"
   ]
  },
  {
   "cell_type": "code",
   "execution_count": 2,
   "metadata": {
    "collapsed": false
   },
   "outputs": [
    {
     "data": {
      "text/html": [
       "<div>\n",
       "<table border=\"1\" class=\"dataframe\">\n",
       "  <thead>\n",
       "    <tr style=\"text-align: right;\">\n",
       "      <th></th>\n",
       "      <th>occupation</th>\n",
       "      <th>region</th>\n",
       "      <th>nkids</th>\n",
       "      <th>nkids2</th>\n",
       "      <th>nadults</th>\n",
       "      <th>lnx</th>\n",
       "      <th>stobacco</th>\n",
       "      <th>salcohol</th>\n",
       "      <th>age</th>\n",
       "    </tr>\n",
       "  </thead>\n",
       "  <tbody>\n",
       "    <tr>\n",
       "      <th>0</th>\n",
       "      <td>bluecol</td>\n",
       "      <td>flanders</td>\n",
       "      <td>1</td>\n",
       "      <td>0</td>\n",
       "      <td>2</td>\n",
       "      <td>14.19054</td>\n",
       "      <td>0</td>\n",
       "      <td>0.000000</td>\n",
       "      <td>2</td>\n",
       "    </tr>\n",
       "    <tr>\n",
       "      <th>1</th>\n",
       "      <td>inactself</td>\n",
       "      <td>flanders</td>\n",
       "      <td>0</td>\n",
       "      <td>0</td>\n",
       "      <td>3</td>\n",
       "      <td>13.90857</td>\n",
       "      <td>0</td>\n",
       "      <td>0.002285</td>\n",
       "      <td>3</td>\n",
       "    </tr>\n",
       "    <tr>\n",
       "      <th>2</th>\n",
       "      <td>whitecol</td>\n",
       "      <td>flanders</td>\n",
       "      <td>0</td>\n",
       "      <td>0</td>\n",
       "      <td>1</td>\n",
       "      <td>13.97461</td>\n",
       "      <td>0</td>\n",
       "      <td>0.012875</td>\n",
       "      <td>2</td>\n",
       "    </tr>\n",
       "    <tr>\n",
       "      <th>3</th>\n",
       "      <td>bluecol</td>\n",
       "      <td>flanders</td>\n",
       "      <td>1</td>\n",
       "      <td>0</td>\n",
       "      <td>2</td>\n",
       "      <td>13.76281</td>\n",
       "      <td>0</td>\n",
       "      <td>0.005907</td>\n",
       "      <td>2</td>\n",
       "    </tr>\n",
       "    <tr>\n",
       "      <th>4</th>\n",
       "      <td>inactself</td>\n",
       "      <td>flanders</td>\n",
       "      <td>2</td>\n",
       "      <td>0</td>\n",
       "      <td>1</td>\n",
       "      <td>13.80800</td>\n",
       "      <td>0</td>\n",
       "      <td>0.021981</td>\n",
       "      <td>2</td>\n",
       "    </tr>\n",
       "  </tbody>\n",
       "</table>\n",
       "</div>"
      ],
      "text/plain": [
       "  occupation    region  nkids  nkids2  nadults       lnx  stobacco  salcohol  \\\n",
       "0    bluecol  flanders      1       0        2  14.19054         0  0.000000   \n",
       "1  inactself  flanders      0       0        3  13.90857         0  0.002285   \n",
       "2   whitecol  flanders      0       0        1  13.97461         0  0.012875   \n",
       "3    bluecol  flanders      1       0        2  13.76281         0  0.005907   \n",
       "4  inactself  flanders      2       0        1  13.80800         0  0.021981   \n",
       "\n",
       "   age  \n",
       "0    2  \n",
       "1    3  \n",
       "2    2  \n",
       "3    2  \n",
       "4    2  "
      ]
     },
     "execution_count": 2,
     "metadata": {},
     "output_type": "execute_result"
    }
   ],
   "source": [
    "url = \"https://raw.githubusercontent.com/ga-students/DS-SF-24/master/Data/Tobacco.csv\"\n",
    "TobaccoData = pd.read_csv(url)\n",
    "del TobaccoData['Unnamed: 0']\n",
    "TobaccoData.head()"
   ]
  },
  {
   "cell_type": "markdown",
   "metadata": {},
   "source": [
    "Here is the data dictionary of this dataset:\n",
    "https://vincentarelbundock.github.io/Rdatasets/doc/Ecdat/Tobacco.html"
   ]
  },
  {
   "cell_type": "code",
   "execution_count": 3,
   "metadata": {
    "collapsed": false
   },
   "outputs": [
    {
     "data": {
      "text/html": [
       "<div>\n",
       "<table border=\"1\" class=\"dataframe\">\n",
       "  <thead>\n",
       "    <tr style=\"text-align: right;\">\n",
       "      <th></th>\n",
       "      <th>occupation</th>\n",
       "      <th>region</th>\n",
       "      <th>nkids</th>\n",
       "      <th>nkids2</th>\n",
       "      <th>nadults</th>\n",
       "      <th>lnx</th>\n",
       "      <th>stobacco</th>\n",
       "      <th>salcohol</th>\n",
       "      <th>age</th>\n",
       "      <th>region_flanders</th>\n",
       "      <th>region_walloon</th>\n",
       "      <th>occupation_inactself</th>\n",
       "      <th>occupation_whitecol</th>\n",
       "      <th>age_1</th>\n",
       "      <th>age_2</th>\n",
       "      <th>age_3</th>\n",
       "      <th>age_4</th>\n",
       "    </tr>\n",
       "  </thead>\n",
       "  <tbody>\n",
       "    <tr>\n",
       "      <th>0</th>\n",
       "      <td>bluecol</td>\n",
       "      <td>flanders</td>\n",
       "      <td>1</td>\n",
       "      <td>0</td>\n",
       "      <td>2</td>\n",
       "      <td>14.19054</td>\n",
       "      <td>0</td>\n",
       "      <td>0.000000</td>\n",
       "      <td>2</td>\n",
       "      <td>1</td>\n",
       "      <td>0</td>\n",
       "      <td>0</td>\n",
       "      <td>0</td>\n",
       "      <td>0</td>\n",
       "      <td>1</td>\n",
       "      <td>0</td>\n",
       "      <td>0</td>\n",
       "    </tr>\n",
       "    <tr>\n",
       "      <th>1</th>\n",
       "      <td>inactself</td>\n",
       "      <td>flanders</td>\n",
       "      <td>0</td>\n",
       "      <td>0</td>\n",
       "      <td>3</td>\n",
       "      <td>13.90857</td>\n",
       "      <td>0</td>\n",
       "      <td>0.002285</td>\n",
       "      <td>3</td>\n",
       "      <td>1</td>\n",
       "      <td>0</td>\n",
       "      <td>1</td>\n",
       "      <td>0</td>\n",
       "      <td>0</td>\n",
       "      <td>0</td>\n",
       "      <td>1</td>\n",
       "      <td>0</td>\n",
       "    </tr>\n",
       "    <tr>\n",
       "      <th>2</th>\n",
       "      <td>whitecol</td>\n",
       "      <td>flanders</td>\n",
       "      <td>0</td>\n",
       "      <td>0</td>\n",
       "      <td>1</td>\n",
       "      <td>13.97461</td>\n",
       "      <td>0</td>\n",
       "      <td>0.012875</td>\n",
       "      <td>2</td>\n",
       "      <td>1</td>\n",
       "      <td>0</td>\n",
       "      <td>0</td>\n",
       "      <td>1</td>\n",
       "      <td>0</td>\n",
       "      <td>1</td>\n",
       "      <td>0</td>\n",
       "      <td>0</td>\n",
       "    </tr>\n",
       "    <tr>\n",
       "      <th>3</th>\n",
       "      <td>bluecol</td>\n",
       "      <td>flanders</td>\n",
       "      <td>1</td>\n",
       "      <td>0</td>\n",
       "      <td>2</td>\n",
       "      <td>13.76281</td>\n",
       "      <td>0</td>\n",
       "      <td>0.005907</td>\n",
       "      <td>2</td>\n",
       "      <td>1</td>\n",
       "      <td>0</td>\n",
       "      <td>0</td>\n",
       "      <td>0</td>\n",
       "      <td>0</td>\n",
       "      <td>1</td>\n",
       "      <td>0</td>\n",
       "      <td>0</td>\n",
       "    </tr>\n",
       "    <tr>\n",
       "      <th>4</th>\n",
       "      <td>inactself</td>\n",
       "      <td>flanders</td>\n",
       "      <td>2</td>\n",
       "      <td>0</td>\n",
       "      <td>1</td>\n",
       "      <td>13.80800</td>\n",
       "      <td>0</td>\n",
       "      <td>0.021981</td>\n",
       "      <td>2</td>\n",
       "      <td>1</td>\n",
       "      <td>0</td>\n",
       "      <td>1</td>\n",
       "      <td>0</td>\n",
       "      <td>0</td>\n",
       "      <td>1</td>\n",
       "      <td>0</td>\n",
       "      <td>0</td>\n",
       "    </tr>\n",
       "  </tbody>\n",
       "</table>\n",
       "</div>"
      ],
      "text/plain": [
       "  occupation    region  nkids  nkids2  nadults       lnx  stobacco  salcohol  \\\n",
       "0    bluecol  flanders      1       0        2  14.19054         0  0.000000   \n",
       "1  inactself  flanders      0       0        3  13.90857         0  0.002285   \n",
       "2   whitecol  flanders      0       0        1  13.97461         0  0.012875   \n",
       "3    bluecol  flanders      1       0        2  13.76281         0  0.005907   \n",
       "4  inactself  flanders      2       0        1  13.80800         0  0.021981   \n",
       "\n",
       "   age  region_flanders  region_walloon  occupation_inactself  \\\n",
       "0    2                1               0                     0   \n",
       "1    3                1               0                     1   \n",
       "2    2                1               0                     0   \n",
       "3    2                1               0                     0   \n",
       "4    2                1               0                     1   \n",
       "\n",
       "   occupation_whitecol  age_1  age_2  age_3  age_4  \n",
       "0                    0      0      1      0      0  \n",
       "1                    0      0      0      1      0  \n",
       "2                    1      0      1      0      0  \n",
       "3                    0      0      1      0      0  \n",
       "4                    0      0      1      0      0  "
      ]
     },
     "execution_count": 3,
     "metadata": {},
     "output_type": "execute_result"
    }
   ],
   "source": [
    "region_dummy  = pd.get_dummies(TobaccoData['region'], prefix = 'region')\n",
    "del region_dummy[region_dummy.columns.values[0]]\n",
    "\n",
    "occupation_dummy = pd.get_dummies(TobaccoData['occupation'], prefix = 'occupation')\n",
    "del occupation_dummy[occupation_dummy.columns.values[0]]\n",
    "\n",
    "age_dummy = pd.get_dummies(TobaccoData['age'], prefix = 'age')\n",
    "del age_dummy[age_dummy.columns.values[0]]\n",
    "\n",
    "TobaccoData = pd.concat([TobaccoData, region_dummy ,occupation_dummy, age_dummy], axis=1)\n",
    "TobaccoData.head()"
   ]
  },
  {
   "cell_type": "markdown",
   "metadata": {},
   "source": [
    "#### We would like to use a Decision Tree Regression model to detect the most important variables affect expenditure on tobacco. Please follow necessary steps to develop your Regression Tree, Tune it via Cross-Validation and lastly state the most important variable you found with the corresponding MSE of your best model. Your output is stobacco. Although you can use either Depth or Maximum_Terminal_Nodes as your tuning parameter, use depth for this excercise. "
   ]
  },
  {
   "cell_type": "code",
   "execution_count": 4,
   "metadata": {
    "collapsed": false
   },
   "outputs": [],
   "source": [
    "del TobaccoData['occupation']\n",
    "del TobaccoData['region']\n",
    "del TobaccoData['age']"
   ]
  },
  {
   "cell_type": "code",
   "execution_count": 5,
   "metadata": {
    "collapsed": false
   },
   "outputs": [],
   "source": [
    "X = TobaccoData[TobaccoData.columns.values]\n",
    "y = TobaccoData.stobacco\n",
    "del X['stobacco']"
   ]
  },
  {
   "cell_type": "code",
   "execution_count": 7,
   "metadata": {
    "collapsed": false
   },
   "outputs": [
    {
     "data": {
      "image/png": "[encoded data removed]",
      "text/plain": [
       "<matplotlib.figure.Figure at 0x10fc6b050>"
      ]
     },
     "metadata": {},
     "output_type": "display_data"
    }
   ],
   "source": [
    "\n",
    "Depth = range(1,50)\n",
    "score = []\n",
    "for i in Depth:\n",
    "        treereg = DecisionTreeRegressor(max_depth = i, random_state = 24)\n",
    "        score.append(-cross_val_score(treereg, X, y, cv=10, scoring='mean_squared_error').mean())\n",
    "        \n",
    "plt.plot(Depth, score)\n",
    "plt.xlabel(\"Depth\")\n",
    "plt.ylabel(\"CV - MSE\")\n",
    "plt.show()"
   ]
  },
  {
   "cell_type": "code",
   "execution_count": 8,
   "metadata": {
    "collapsed": true
   },
   "outputs": [],
   "source": [
    "Min_Depth_index = np.argmin(score)\n",
    "Best_Depth = Depth[Min_Depth_index]\n",
    "Min_Score = np.min(score)"
   ]
  },
  {
   "cell_type": "code",
   "execution_count": 9,
   "metadata": {
    "collapsed": false
   },
   "outputs": [
    {
     "name": "stdout",
     "output_type": "stream",
     "text": [
      "Minimum MSE achieved at depth = 2 with MSE = 0.000587\n"
     ]
    }
   ],
   "source": [
    "print(\"Minimum MSE achieved at depth = %i with MSE = %f\" %(Best_Depth, Min_Score))"
   ]
  },
  {
   "cell_type": "markdown",
   "metadata": {},
   "source": [
    "#### Re-run your model using the optimal values you found earlier and find the importance of features."
   ]
  },
  {
   "cell_type": "code",
   "execution_count": 10,
   "metadata": {
    "collapsed": false
   },
   "outputs": [
    {
     "data": {
      "text/html": [
       "<div>\n",
       "<table border=\"1\" class=\"dataframe\">\n",
       "  <thead>\n",
       "    <tr style=\"text-align: right;\">\n",
       "      <th></th>\n",
       "      <th>feature</th>\n",
       "      <th>importance</th>\n",
       "    </tr>\n",
       "  </thead>\n",
       "  <tbody>\n",
       "    <tr>\n",
       "      <th>3</th>\n",
       "      <td>lnx</td>\n",
       "      <td>0.526694</td>\n",
       "    </tr>\n",
       "    <tr>\n",
       "      <th>12</th>\n",
       "      <td>age_4</td>\n",
       "      <td>0.473306</td>\n",
       "    </tr>\n",
       "    <tr>\n",
       "      <th>0</th>\n",
       "      <td>nkids</td>\n",
       "      <td>0.000000</td>\n",
       "    </tr>\n",
       "    <tr>\n",
       "      <th>1</th>\n",
       "      <td>nkids2</td>\n",
       "      <td>0.000000</td>\n",
       "    </tr>\n",
       "    <tr>\n",
       "      <th>2</th>\n",
       "      <td>nadults</td>\n",
       "      <td>0.000000</td>\n",
       "    </tr>\n",
       "    <tr>\n",
       "      <th>4</th>\n",
       "      <td>salcohol</td>\n",
       "      <td>0.000000</td>\n",
       "    </tr>\n",
       "    <tr>\n",
       "      <th>5</th>\n",
       "      <td>region_flanders</td>\n",
       "      <td>0.000000</td>\n",
       "    </tr>\n",
       "    <tr>\n",
       "      <th>6</th>\n",
       "      <td>region_walloon</td>\n",
       "      <td>0.000000</td>\n",
       "    </tr>\n",
       "    <tr>\n",
       "      <th>7</th>\n",
       "      <td>occupation_inactself</td>\n",
       "      <td>0.000000</td>\n",
       "    </tr>\n",
       "    <tr>\n",
       "      <th>8</th>\n",
       "      <td>occupation_whitecol</td>\n",
       "      <td>0.000000</td>\n",
       "    </tr>\n",
       "    <tr>\n",
       "      <th>9</th>\n",
       "      <td>age_1</td>\n",
       "      <td>0.000000</td>\n",
       "    </tr>\n",
       "    <tr>\n",
       "      <th>10</th>\n",
       "      <td>age_2</td>\n",
       "      <td>0.000000</td>\n",
       "    </tr>\n",
       "    <tr>\n",
       "      <th>11</th>\n",
       "      <td>age_3</td>\n",
       "      <td>0.000000</td>\n",
       "    </tr>\n",
       "  </tbody>\n",
       "</table>\n",
       "</div>"
      ],
      "text/plain": [
       "                 feature  importance\n",
       "3                    lnx    0.526694\n",
       "12                 age_4    0.473306\n",
       "0                  nkids    0.000000\n",
       "1                 nkids2    0.000000\n",
       "2                nadults    0.000000\n",
       "4               salcohol    0.000000\n",
       "5        region_flanders    0.000000\n",
       "6         region_walloon    0.000000\n",
       "7   occupation_inactself    0.000000\n",
       "8    occupation_whitecol    0.000000\n",
       "9                  age_1    0.000000\n",
       "10                 age_2    0.000000\n",
       "11                 age_3    0.000000"
      ]
     },
     "execution_count": 10,
     "metadata": {},
     "output_type": "execute_result"
    }
   ],
   "source": [
    "# our best model has depth 2 - this is very interesting!\n",
    "treereg = DecisionTreeRegressor(max_depth = Best_Depth, random_state = 24)\n",
    "treereg.fit(X, y)\n",
    "ImportanceDataFrame = pd.DataFrame({'feature':X.columns.values, 'importance':treereg.feature_importances_})\n",
    "ImportanceDataFrame.sort_values(by = ['importance'],ascending = 0)\n"
   ]
  },
  {
   "cell_type": "markdown",
   "metadata": {},
   "source": [
    "it sounds like lnx (how much money they had) and age_4 (the older population) are the most important features of this dataset. None of the other variables seem to affect our rate."
   ]
  },
  {
   "cell_type": "markdown",
   "metadata": {},
   "source": [
    "#### Now, let's treat stobacco as a dummy variable to distinguish between those who smoke and who do not. We then need to use decision tree classifier to identify the most important features that may affect probability of smoking. Although you can use either Depth or Maximum_Terminal_Nodes as your tuning parameter, use Maximum_Terminal_Nodes for this excercise. "
   ]
  },
  {
   "cell_type": "code",
   "execution_count": 11,
   "metadata": {
    "collapsed": false
   },
   "outputs": [
    {
     "data": {
      "text/html": [
       "<div>\n",
       "<table border=\"1\" class=\"dataframe\">\n",
       "  <thead>\n",
       "    <tr style=\"text-align: right;\">\n",
       "      <th></th>\n",
       "      <th>nkids</th>\n",
       "      <th>nkids2</th>\n",
       "      <th>nadults</th>\n",
       "      <th>lnx</th>\n",
       "      <th>salcohol</th>\n",
       "      <th>region_flanders</th>\n",
       "      <th>region_walloon</th>\n",
       "      <th>occupation_inactself</th>\n",
       "      <th>occupation_whitecol</th>\n",
       "      <th>age_1</th>\n",
       "      <th>age_2</th>\n",
       "      <th>age_3</th>\n",
       "      <th>age_4</th>\n",
       "      <th>smoke</th>\n",
       "    </tr>\n",
       "  </thead>\n",
       "  <tbody>\n",
       "    <tr>\n",
       "      <th>0</th>\n",
       "      <td>1</td>\n",
       "      <td>0</td>\n",
       "      <td>2</td>\n",
       "      <td>14.19054</td>\n",
       "      <td>0.000000</td>\n",
       "      <td>1</td>\n",
       "      <td>0</td>\n",
       "      <td>0</td>\n",
       "      <td>0</td>\n",
       "      <td>0</td>\n",
       "      <td>1</td>\n",
       "      <td>0</td>\n",
       "      <td>0</td>\n",
       "      <td>0</td>\n",
       "    </tr>\n",
       "    <tr>\n",
       "      <th>1</th>\n",
       "      <td>0</td>\n",
       "      <td>0</td>\n",
       "      <td>3</td>\n",
       "      <td>13.90857</td>\n",
       "      <td>0.002285</td>\n",
       "      <td>1</td>\n",
       "      <td>0</td>\n",
       "      <td>1</td>\n",
       "      <td>0</td>\n",
       "      <td>0</td>\n",
       "      <td>0</td>\n",
       "      <td>1</td>\n",
       "      <td>0</td>\n",
       "      <td>0</td>\n",
       "    </tr>\n",
       "    <tr>\n",
       "      <th>2</th>\n",
       "      <td>0</td>\n",
       "      <td>0</td>\n",
       "      <td>1</td>\n",
       "      <td>13.97461</td>\n",
       "      <td>0.012875</td>\n",
       "      <td>1</td>\n",
       "      <td>0</td>\n",
       "      <td>0</td>\n",
       "      <td>1</td>\n",
       "      <td>0</td>\n",
       "      <td>1</td>\n",
       "      <td>0</td>\n",
       "      <td>0</td>\n",
       "      <td>0</td>\n",
       "    </tr>\n",
       "    <tr>\n",
       "      <th>3</th>\n",
       "      <td>1</td>\n",
       "      <td>0</td>\n",
       "      <td>2</td>\n",
       "      <td>13.76281</td>\n",
       "      <td>0.005907</td>\n",
       "      <td>1</td>\n",
       "      <td>0</td>\n",
       "      <td>0</td>\n",
       "      <td>0</td>\n",
       "      <td>0</td>\n",
       "      <td>1</td>\n",
       "      <td>0</td>\n",
       "      <td>0</td>\n",
       "      <td>0</td>\n",
       "    </tr>\n",
       "    <tr>\n",
       "      <th>4</th>\n",
       "      <td>2</td>\n",
       "      <td>0</td>\n",
       "      <td>1</td>\n",
       "      <td>13.80800</td>\n",
       "      <td>0.021981</td>\n",
       "      <td>1</td>\n",
       "      <td>0</td>\n",
       "      <td>1</td>\n",
       "      <td>0</td>\n",
       "      <td>0</td>\n",
       "      <td>1</td>\n",
       "      <td>0</td>\n",
       "      <td>0</td>\n",
       "      <td>0</td>\n",
       "    </tr>\n",
       "  </tbody>\n",
       "</table>\n",
       "</div>"
      ],
      "text/plain": [
       "   nkids  nkids2  nadults       lnx  salcohol  region_flanders  \\\n",
       "0      1       0        2  14.19054  0.000000                1   \n",
       "1      0       0        3  13.90857  0.002285                1   \n",
       "2      0       0        1  13.97461  0.012875                1   \n",
       "3      1       0        2  13.76281  0.005907                1   \n",
       "4      2       0        1  13.80800  0.021981                1   \n",
       "\n",
       "   region_walloon  occupation_inactself  occupation_whitecol  age_1  age_2  \\\n",
       "0               0                     0                    0      0      1   \n",
       "1               0                     1                    0      0      0   \n",
       "2               0                     0                    1      0      1   \n",
       "3               0                     0                    0      0      1   \n",
       "4               0                     1                    0      0      1   \n",
       "\n",
       "   age_3  age_4 smoke  \n",
       "0      0      0     0  \n",
       "1      1      0     0  \n",
       "2      0      0     0  \n",
       "3      0      0     0  \n",
       "4      0      0     0  "
      ]
     },
     "execution_count": 11,
     "metadata": {},
     "output_type": "execute_result"
    }
   ],
   "source": [
    "TobaccoData['smoke'] = '1'\n",
    "mask_cat0 = (TobaccoData['stobacco'] == 0)   \n",
    "\n",
    "TobaccoData.loc[mask_cat0,'smoke'] = '0'\n",
    "del TobaccoData['stobacco']\n",
    "TobaccoData.head()"
   ]
  },
  {
   "cell_type": "code",
   "execution_count": 12,
   "metadata": {
    "collapsed": true
   },
   "outputs": [],
   "source": [
    "X = TobaccoData[TobaccoData.columns.values]\n",
    "y = TobaccoData['smoke']\n",
    "\n",
    "del X['smoke']"
   ]
  },
  {
   "cell_type": "code",
   "execution_count": 13,
   "metadata": {
    "collapsed": false
   },
   "outputs": [
    {
     "data": {
      "image/png": "[encoded data removed]",
      "text/plain": [
       "<matplotlib.figure.Figure at 0x103c11cd0>"
      ]
     },
     "metadata": {},
     "output_type": "display_data"
    }
   ],
   "source": [
    "Sample_leaf_range = range(2,100)\n",
    "score = []\n",
    "for i in Sample_leaf_range:\n",
    "    TreeClass = DecisionTreeClassifier(max_leaf_nodes = i,\n",
    "                                       min_samples_leaf = 5,\n",
    "                                       random_state = 24)\n",
    "    score.append(cross_val_score(TreeClass, X, y, cv=10, scoring = 'accuracy').mean())\n",
    "\n",
    "plt.plot(Sample_leaf_range, score)\n",
    "plt.xlabel(\"Sample_leaf_range\")\n",
    "plt.ylabel(\"# of terminal nodes\")\n",
    "plt.show()"
   ]
  },
  {
   "cell_type": "code",
   "execution_count": 14,
   "metadata": {
    "collapsed": true
   },
   "outputs": [],
   "source": [
    "Max_node_index = np.argmax(score)\n",
    "Best_num = Sample_leaf_range[Max_node_index]\n",
    "Max_Score = np.max(score)"
   ]
  },
  {
   "cell_type": "code",
   "execution_count": 15,
   "metadata": {
    "collapsed": false
   },
   "outputs": [
    {
     "name": "stdout",
     "output_type": "stream",
     "text": [
      "Maximum Accuracy is achieved at depth = 49 with Accuracy = 0.624446\n"
     ]
    }
   ],
   "source": [
    "print(\"Maximum Accuracy is achieved at depth = %i with Accuracy = %f\" %(Best_num, Max_Score))"
   ]
  },
  {
   "cell_type": "markdown",
   "metadata": {},
   "source": [
    "#### Use the optimal max_leaf_nodes value and explore importance of the variables."
   ]
  },
  {
   "cell_type": "code",
   "execution_count": 16,
   "metadata": {
    "collapsed": false
   },
   "outputs": [
    {
     "data": {
      "text/html": [
       "<div>\n",
       "<table border=\"1\" class=\"dataframe\">\n",
       "  <thead>\n",
       "    <tr style=\"text-align: right;\">\n",
       "      <th></th>\n",
       "      <th>feature</th>\n",
       "      <th>importance</th>\n",
       "    </tr>\n",
       "  </thead>\n",
       "  <tbody>\n",
       "    <tr>\n",
       "      <th>3</th>\n",
       "      <td>lnx</td>\n",
       "      <td>0.359392</td>\n",
       "    </tr>\n",
       "    <tr>\n",
       "      <th>4</th>\n",
       "      <td>salcohol</td>\n",
       "      <td>0.285542</td>\n",
       "    </tr>\n",
       "    <tr>\n",
       "      <th>12</th>\n",
       "      <td>age_4</td>\n",
       "      <td>0.173645</td>\n",
       "    </tr>\n",
       "    <tr>\n",
       "      <th>2</th>\n",
       "      <td>nadults</td>\n",
       "      <td>0.060640</td>\n",
       "    </tr>\n",
       "    <tr>\n",
       "      <th>0</th>\n",
       "      <td>nkids</td>\n",
       "      <td>0.035158</td>\n",
       "    </tr>\n",
       "    <tr>\n",
       "      <th>8</th>\n",
       "      <td>occupation_whitecol</td>\n",
       "      <td>0.031807</td>\n",
       "    </tr>\n",
       "    <tr>\n",
       "      <th>9</th>\n",
       "      <td>age_1</td>\n",
       "      <td>0.020736</td>\n",
       "    </tr>\n",
       "    <tr>\n",
       "      <th>7</th>\n",
       "      <td>occupation_inactself</td>\n",
       "      <td>0.018916</td>\n",
       "    </tr>\n",
       "    <tr>\n",
       "      <th>11</th>\n",
       "      <td>age_3</td>\n",
       "      <td>0.014164</td>\n",
       "    </tr>\n",
       "    <tr>\n",
       "      <th>1</th>\n",
       "      <td>nkids2</td>\n",
       "      <td>0.000000</td>\n",
       "    </tr>\n",
       "    <tr>\n",
       "      <th>5</th>\n",
       "      <td>region_flanders</td>\n",
       "      <td>0.000000</td>\n",
       "    </tr>\n",
       "    <tr>\n",
       "      <th>6</th>\n",
       "      <td>region_walloon</td>\n",
       "      <td>0.000000</td>\n",
       "    </tr>\n",
       "    <tr>\n",
       "      <th>10</th>\n",
       "      <td>age_2</td>\n",
       "      <td>0.000000</td>\n",
       "    </tr>\n",
       "  </tbody>\n",
       "</table>\n",
       "</div>"
      ],
      "text/plain": [
       "                 feature  importance\n",
       "3                    lnx    0.359392\n",
       "4               salcohol    0.285542\n",
       "12                 age_4    0.173645\n",
       "2                nadults    0.060640\n",
       "0                  nkids    0.035158\n",
       "8    occupation_whitecol    0.031807\n",
       "9                  age_1    0.020736\n",
       "7   occupation_inactself    0.018916\n",
       "11                 age_3    0.014164\n",
       "1                 nkids2    0.000000\n",
       "5        region_flanders    0.000000\n",
       "6         region_walloon    0.000000\n",
       "10                 age_2    0.000000"
      ]
     },
     "execution_count": 16,
     "metadata": {},
     "output_type": "execute_result"
    }
   ],
   "source": [
    "TreeClass = DecisionTreeClassifier(\n",
    "                max_leaf_nodes = Best_num,\n",
    "                min_samples_leaf = 5,\n",
    "                random_state = 24)\n",
    "\n",
    "TreeClass.fit(X,y)\n",
    "ImportanceDataFrame = pd.DataFrame({'feature':X.columns.values, 'importance':TreeClass.feature_importances_})\n",
    "ImportanceDataFrame.sort_values(by = ['importance'],ascending = 0)\n"
   ]
  },
  {
   "cell_type": "code",
   "execution_count": null,
   "metadata": {
    "collapsed": false
   },
   "outputs": [],
   "source": []
  }
 ],
 "metadata": {
  "kernelspec": {
   "display_name": "Python 2",
   "language": "python",
   "name": "python2"
  },
  "language_info": {
   "codemirror_mode": {
    "name": "ipython",
    "version": 2
   },
   "file_extension": ".py",
   "mimetype": "text/x-python",
   "name": "python",
   "nbconvert_exporter": "python",
   "pygments_lexer": "ipython2",
   "version": "2.7.11"
  }
 },
 "nbformat": 4,
 "nbformat_minor": 0
}
