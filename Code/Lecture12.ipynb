{
 "cells": [
  {
   "cell_type": "markdown",
   "metadata": {},
   "source": [
    "In this exercise we are going to use Boston Data"
   ]
  },
  {
   "cell_type": "code",
   "execution_count": 1,
   "metadata": {
    "collapsed": true
   },
   "outputs": [],
   "source": [
    "import pandas as pd\n",
    "import numpy as np\n",
    "import matplotlib.pyplot as plt\n",
    "%matplotlib inline"
   ]
  },
  {
   "cell_type": "code",
   "execution_count": 2,
   "metadata": {
    "collapsed": false
   },
   "outputs": [
    {
     "data": {
      "text/html": [
       "<div>\n",
       "<table border=\"1\" class=\"dataframe\">\n",
       "  <thead>\n",
       "    <tr style=\"text-align: right;\">\n",
       "      <th></th>\n",
       "      <th>crim</th>\n",
       "      <th>zn</th>\n",
       "      <th>indus</th>\n",
       "      <th>chas</th>\n",
       "      <th>nox</th>\n",
       "      <th>rm</th>\n",
       "      <th>age</th>\n",
       "      <th>dis</th>\n",
       "      <th>rad</th>\n",
       "      <th>tax</th>\n",
       "      <th>ptratio</th>\n",
       "      <th>black</th>\n",
       "      <th>lstat</th>\n",
       "      <th>medv</th>\n",
       "    </tr>\n",
       "  </thead>\n",
       "  <tbody>\n",
       "    <tr>\n",
       "      <th>0</th>\n",
       "      <td>0.00632</td>\n",
       "      <td>18</td>\n",
       "      <td>2.31</td>\n",
       "      <td>0</td>\n",
       "      <td>0.538</td>\n",
       "      <td>6.575</td>\n",
       "      <td>65.2</td>\n",
       "      <td>4.0900</td>\n",
       "      <td>1</td>\n",
       "      <td>296</td>\n",
       "      <td>15.3</td>\n",
       "      <td>396.90</td>\n",
       "      <td>4.98</td>\n",
       "      <td>24.0</td>\n",
       "    </tr>\n",
       "    <tr>\n",
       "      <th>1</th>\n",
       "      <td>0.02731</td>\n",
       "      <td>0</td>\n",
       "      <td>7.07</td>\n",
       "      <td>0</td>\n",
       "      <td>0.469</td>\n",
       "      <td>6.421</td>\n",
       "      <td>78.9</td>\n",
       "      <td>4.9671</td>\n",
       "      <td>2</td>\n",
       "      <td>242</td>\n",
       "      <td>17.8</td>\n",
       "      <td>396.90</td>\n",
       "      <td>9.14</td>\n",
       "      <td>21.6</td>\n",
       "    </tr>\n",
       "    <tr>\n",
       "      <th>2</th>\n",
       "      <td>0.02729</td>\n",
       "      <td>0</td>\n",
       "      <td>7.07</td>\n",
       "      <td>0</td>\n",
       "      <td>0.469</td>\n",
       "      <td>7.185</td>\n",
       "      <td>61.1</td>\n",
       "      <td>4.9671</td>\n",
       "      <td>2</td>\n",
       "      <td>242</td>\n",
       "      <td>17.8</td>\n",
       "      <td>392.83</td>\n",
       "      <td>4.03</td>\n",
       "      <td>34.7</td>\n",
       "    </tr>\n",
       "    <tr>\n",
       "      <th>3</th>\n",
       "      <td>0.03237</td>\n",
       "      <td>0</td>\n",
       "      <td>2.18</td>\n",
       "      <td>0</td>\n",
       "      <td>0.458</td>\n",
       "      <td>6.998</td>\n",
       "      <td>45.8</td>\n",
       "      <td>6.0622</td>\n",
       "      <td>3</td>\n",
       "      <td>222</td>\n",
       "      <td>18.7</td>\n",
       "      <td>394.63</td>\n",
       "      <td>2.94</td>\n",
       "      <td>33.4</td>\n",
       "    </tr>\n",
       "    <tr>\n",
       "      <th>4</th>\n",
       "      <td>0.06905</td>\n",
       "      <td>0</td>\n",
       "      <td>2.18</td>\n",
       "      <td>0</td>\n",
       "      <td>0.458</td>\n",
       "      <td>7.147</td>\n",
       "      <td>54.2</td>\n",
       "      <td>6.0622</td>\n",
       "      <td>3</td>\n",
       "      <td>222</td>\n",
       "      <td>18.7</td>\n",
       "      <td>396.90</td>\n",
       "      <td>5.33</td>\n",
       "      <td>36.2</td>\n",
       "    </tr>\n",
       "  </tbody>\n",
       "</table>\n",
       "</div>"
      ],
      "text/plain": [
       "      crim  zn  indus  chas    nox     rm   age     dis  rad  tax  ptratio  \\\n",
       "0  0.00632  18   2.31     0  0.538  6.575  65.2  4.0900    1  296     15.3   \n",
       "1  0.02731   0   7.07     0  0.469  6.421  78.9  4.9671    2  242     17.8   \n",
       "2  0.02729   0   7.07     0  0.469  7.185  61.1  4.9671    2  242     17.8   \n",
       "3  0.03237   0   2.18     0  0.458  6.998  45.8  6.0622    3  222     18.7   \n",
       "4  0.06905   0   2.18     0  0.458  7.147  54.2  6.0622    3  222     18.7   \n",
       "\n",
       "    black  lstat  medv  \n",
       "0  396.90   4.98  24.0  \n",
       "1  396.90   9.14  21.6  \n",
       "2  392.83   4.03  34.7  \n",
       "3  394.63   2.94  33.4  \n",
       "4  396.90   5.33  36.2  "
      ]
     },
     "execution_count": 2,
     "metadata": {},
     "output_type": "execute_result"
    }
   ],
   "source": [
    "url = \"https://raw.githubusercontent.com/ga-students/DS-SF-24/master/Data/Boston.csv\"\n",
    "BostonData = pd.read_csv(url)\n",
    "del BostonData['Unnamed: 0']\n",
    "BostonData.head(5)"
   ]
  },
  {
   "cell_type": "code",
   "execution_count": 3,
   "metadata": {
    "collapsed": true
   },
   "outputs": [],
   "source": [
    "X = BostonData[BostonData.columns.values]\n",
    "del X['medv']\n",
    "y = BostonData['medv']"
   ]
  },
  {
   "cell_type": "code",
   "execution_count": 4,
   "metadata": {
    "collapsed": true
   },
   "outputs": [],
   "source": [
    "from sklearn.ensemble import RandomForestRegressor"
   ]
  },
  {
   "cell_type": "markdown",
   "metadata": {},
   "source": [
    "# Random Forest - Regression Problems"
   ]
  },
  {
   "cell_type": "markdown",
   "metadata": {},
   "source": [
    "#### For documentation of RandomForestRegressor please refer to:\n",
    "http://scikit-learn.org/stable/modules/generated/sklearn.ensemble.RandomForestRegressor.html"
   ]
  },
  {
   "cell_type": "code",
   "execution_count": 5,
   "metadata": {
    "collapsed": false
   },
   "outputs": [
    {
     "data": {
      "text/plain": [
       "RandomForestRegressor(bootstrap=True, criterion='mse', max_depth=None,\n",
       "           max_features=4, max_leaf_nodes=None, min_samples_leaf=10,\n",
       "           min_samples_split=2, min_weight_fraction_leaf=0.0,\n",
       "           n_estimators=10000, n_jobs=1, oob_score=True, random_state=1,\n",
       "           verbose=0, warm_start=False)"
      ]
     },
     "execution_count": 5,
     "metadata": {},
     "output_type": "execute_result"
    }
   ],
   "source": [
    "RF = RandomForestRegressor(n_estimators = 10000, #Number of trees - the more the better!\n",
    "                           max_features = 4,     #How many features to randomly choose in each node \n",
    "                           min_samples_leaf = 10, #Minimum number of observations at each terminal node\n",
    "                           oob_score = True,    #If you would like to record out of bage scores\n",
    "                           random_state = 1)      \n",
    "# if you do not set maximum number of features, then you'll have bagging\n",
    "\n",
    "RF.fit(X,y)"
   ]
  },
  {
   "cell_type": "code",
   "execution_count": 6,
   "metadata": {
    "collapsed": false
   },
   "outputs": [
    {
     "data": {
      "text/plain": [
       "[(0.0011520709582964477, 'chas'),\n",
       " (0.0055412887678616372, 'zn'),\n",
       " (0.0059217053556689051, 'rad'),\n",
       " (0.010839118109372914, 'black'),\n",
       " (0.018982755191764782, 'age'),\n",
       " (0.028311346469279738, 'tax'),\n",
       " (0.029895032265189365, 'dis'),\n",
       " (0.049568147662482076, 'crim'),\n",
       " (0.064173062559108207, 'nox'),\n",
       " (0.070122081358297547, 'indus'),\n",
       " (0.070992951598043516, 'ptratio'),\n",
       " (0.32061517846414128, 'lstat'),\n",
       " (0.32388526124049299, 'rm')]"
      ]
     },
     "execution_count": 6,
     "metadata": {},
     "output_type": "execute_result"
    }
   ],
   "source": [
    "sorted(zip(RF.feature_importances_,X.columns.values))"
   ]
  },
  {
   "cell_type": "code",
   "execution_count": 7,
   "metadata": {
    "collapsed": false
   },
   "outputs": [
    {
     "data": {
      "text/plain": [
       "0.81461137327810274"
      ]
     },
     "execution_count": 7,
     "metadata": {},
     "output_type": "execute_result"
    }
   ],
   "source": [
    "RF.oob_score_  #this value is like R^2"
   ]
  },
  {
   "cell_type": "markdown",
   "metadata": {},
   "source": [
    "#### A time-consuming way to tune your model on m - # of Features"
   ]
  },
  {
   "cell_type": "code",
   "execution_count": 8,
   "metadata": {
    "collapsed": false
   },
   "outputs": [
    {
     "data": {
      "image/png": "[encoded data removed]",
      "text/plain": [
       "<matplotlib.figure.Figure at 0x10c013c10>"
      ]
     },
     "metadata": {},
     "output_type": "display_data"
    }
   ],
   "source": [
    "from sklearn.cross_validation import cross_val_score\n",
    "Features = range(1,14)\n",
    "score = []\n",
    "for i in Features:\n",
    "         RF = RandomForestRegressor(n_estimators = 1000, #Number of trees - the more the better!\n",
    "                           max_features = i,     #How many features to randomly choose in each node \n",
    "                           min_samples_leaf = 10, #Minimum number of observations at each terminal node\n",
    "                           oob_score = True,\n",
    "                           random_state = 1,\n",
    "                           n_jobs = -1) #Use all CPUs simultanously \n",
    "         score.append(-cross_val_score(RF, X, y, cv = 10, scoring = 'mean_squared_error', n_jobs = -1).mean())\n",
    "\n",
    "plt.plot(Features, score)\n",
    "plt.xlabel(\"Number of Features\")\n",
    "plt.ylabel(\"Cross-Validation MSE\")\n",
    "plt.show()            "
   ]
  },
  {
   "cell_type": "code",
   "execution_count": 9,
   "metadata": {
    "collapsed": false
   },
   "outputs": [
    {
     "name": "stdout",
     "output_type": "stream",
     "text": [
      "The optimal level of features is 8 which leads to minimum level of MSE of 21.656668\n"
     ]
    }
   ],
   "source": [
    "index_Optimal_Features = np.argmin(score)\n",
    "Optimal_Feature = Features[index_Optimal_Features]\n",
    "print(\"The optimal level of features is %i which leads to minimum level of MSE of %f\" %(Optimal_Feature, np.min(score)))"
   ]
  },
  {
   "cell_type": "markdown",
   "metadata": {},
   "source": [
    "#### Using Out of Bag error to tune our models. This is so much faster than CV!"
   ]
  },
  {
   "cell_type": "code",
   "execution_count": 10,
   "metadata": {
    "collapsed": false
   },
   "outputs": [
    {
     "data": {
      "image/png": "[encoded data removed]",
      "text/plain": [
       "<matplotlib.figure.Figure at 0x111de0bd0>"
      ]
     },
     "metadata": {},
     "output_type": "display_data"
    }
   ],
   "source": [
    "Features = range(1,14)\n",
    "oob_score_RF = []\n",
    "for i in Features:\n",
    "        RF = RandomForestRegressor(n_estimators = 2000, #Number of trees - the more the better!\n",
    "                           max_features = i,     #How many features to randomly choose in each node \n",
    "                           min_samples_leaf = 10, #Minimum number of observations at each terminal node\n",
    "                           oob_score = True,\n",
    "                           random_state = 1,\n",
    "                           n_jobs = -1)\n",
    "        RF.fit(X,y)  \n",
    "        oob_score_RF.append(RF.oob_score_)\n",
    "\n",
    "        \n",
    "plt.plot(Features, oob_score_RF)\n",
    "plt.xlabel(\"Number of Features\")\n",
    "plt.ylabel(\"Out of Bag Error\")\n",
    "plt.show()            \n",
    "        \n",
    "\n",
    "\n",
    "# Out of bag score is R^2 - the larger the better. Again we can see our model works best when Number of features\n",
    "# is around 6 to 8. Almost same story as CV - but in a much faster time. "
   ]
  },
  {
   "cell_type": "markdown",
   "metadata": {},
   "source": [
    "# Random Forest - Categorical Variables"
   ]
  },
  {
   "cell_type": "markdown",
   "metadata": {},
   "source": [
    "#### let's first categorize medv to 4 groups. \n",
    "Lowest 20% medv is categorized as Level 1\n",
    "\n",
    "next 30% medv is categorized as Level 2\n",
    "\n",
    "next 30% medv is categorized as Level 3\n",
    "\n",
    "Top 20% medv is categorized as Level 4"
   ]
  },
  {
   "cell_type": "code",
   "execution_count": 11,
   "metadata": {
    "collapsed": false
   },
   "outputs": [],
   "source": [
    "BostonData['medvCategory'] = '1'\n",
    "mask_cat2 = ((BostonData['medv'] > BostonData['medv'].quantile(.2)) & \n",
    "            (BostonData['medv'] <= BostonData['medv'].quantile(.5)))   \n",
    "mask_cat3 = ((BostonData['medv'] > BostonData['medv'].quantile(.5)) & \n",
    "            (BostonData['medv'] <= BostonData['medv'].quantile(.8)))  \n",
    "mask_cat4 = (BostonData['medv'] > BostonData['medv'].quantile(.8)) \n",
    "\n",
    "BostonData.loc[mask_cat2,'medvCategory'] = '2'\n",
    "BostonData.loc[mask_cat3,'medvCategory'] = '3'\n",
    "BostonData.loc[mask_cat4,'medvCategory'] = '4'"
   ]
  },
  {
   "cell_type": "code",
   "execution_count": 12,
   "metadata": {
    "collapsed": false
   },
   "outputs": [],
   "source": [
    "y = BostonData['medvCategory']"
   ]
  },
  {
   "cell_type": "markdown",
   "metadata": {},
   "source": [
    "Documentation for RandomForestClassifier http://scikit-learn.org/stable/modules/generated/sklearn.ensemble.RandomForestClassifier.html"
   ]
  },
  {
   "cell_type": "code",
   "execution_count": 13,
   "metadata": {
    "collapsed": false
   },
   "outputs": [
    {
     "name": "stdout",
     "output_type": "stream",
     "text": [
      "Out of Bag Accuracy  = 0.731225\n",
      "Cross-validation Accuracy = 0.653888\n"
     ]
    }
   ],
   "source": [
    "from sklearn.ensemble import RandomForestClassifier\n",
    "\n",
    "RFClass = RandomForestClassifier(n_estimators = 1000, \n",
    "                                 max_features = 4, # You can set it to a number or 'sqrt', 'log2', etc\n",
    "                                 min_samples_leaf = 10,\n",
    "                                 oob_score = True,\n",
    "                                 random_state = 1,\n",
    "                                 n_jobs = -1)\n",
    "RFClass.fit(X, y)\n",
    "print(\"Out of Bag Accuracy  = %f\" %RFClass.oob_score_)\n",
    "scores = cross_val_score(RFClass, X, y, cv = 10)\n",
    "print(\"Cross-validation Accuracy = %f\" %scores.mean())"
   ]
  },
  {
   "cell_type": "code",
   "execution_count": 14,
   "metadata": {
    "collapsed": false
   },
   "outputs": [
    {
     "data": {
      "image/png": "[encoded data removed]",
      "text/plain": [
       "<matplotlib.figure.Figure at 0x111b1b910>"
      ]
     },
     "metadata": {},
     "output_type": "display_data"
    }
   ],
   "source": [
    "Features = range(1,14)\n",
    "oob_score_RF = []\n",
    "for i in Features:\n",
    "        RFClass = RandomForestClassifier(n_estimators = 1000, #Number of trees - the more the better!\n",
    "                           max_features = i,     #How many features to randomly choose in each node \n",
    "                           min_samples_leaf = 5, #Minimum number of observations at each terminal node\n",
    "                           oob_score = True,\n",
    "                           random_state = 1,\n",
    "                           n_jobs = -1)\n",
    "        RFClass.fit(X,y)  \n",
    "        oob_score_RF.append(RFClass.oob_score_)\n",
    "\n",
    "plt.plot(Features, oob_score_RF)\n",
    "plt.xlabel(\"Number of Features\")\n",
    "plt.ylabel(\"Out of Bag Error\")\n",
    "plt.show()             \n",
    "        \n",
    "\n",
    "# it sounds like choosing max_features as 6 is our best bet"
   ]
  },
  {
   "cell_type": "code",
   "execution_count": 15,
   "metadata": {
    "collapsed": false
   },
   "outputs": [
    {
     "name": "stdout",
     "output_type": "stream",
     "text": [
      "['3' '3' '4' '4' '4' '3' '3' '2' '2' '2' '2' '2' '3' '2' '2' '2' '3' '2'\n",
      " '2' '2' '1' '2' '1' '1' '2' '2' '2' '1' '2' '2' '1' '2' '1' '1' '1' '2'\n",
      " '2' '2' '3' '4' '4' '3' '3' '3' '2' '2' '2' '2' '2' '2' '2' '2' '3' '2'\n",
      " '2' '4' '3' '4' '3' '2' '2' '2' '3' '3' '4' '3' '2' '2' '2' '2' '3' '3'\n",
      " '3' '3' '3' '3' '2' '2' '2' '2' '3' '3' '3' '3' '3' '3' '3' '3' '4' '4'\n",
      " '3' '3' '3' '3' '2' '4' '3' '4' '4' '4' '3' '3' '2' '2' '2' '2' '2' '2'\n",
      " '2' '2' '2' '3' '2' '2' '2' '2' '2' '2' '2' '2' '3' '2' '2' '2' '2' '2'\n",
      " '2' '2' '2' '1' '2' '2' '2' '2' '2' '2' '2' '2' '1' '1' '1' '1' '1' '1'\n",
      " '1' '1' '2' '1' '1' '2' '2' '2' '2' '2' '2' '2' '2' '4' '3' '3' '3' '4'\n",
      " '4' '4' '3' '3' '4' '3' '3' '3' '2' '2' '3' '3' '3' '3' '3' '3' '4' '4'\n",
      " '4' '3' '4' '4' '3' '3' '4' '4' '4' '4' '4' '4' '4' '4' '4' '4' '4' '4'\n",
      " '4' '4' '4' '3' '4' '4' '4' '3' '3' '2' '3' '2' '3' '2' '3' '3' '2' '3'\n",
      " '3' '3' '3' '3' '3' '2' '3' '3' '4' '4' '4' '4' '4' '4' '3' '4' '4' '4'\n",
      " '3' '3' '3' '4' '3' '3' '3' '2' '3' '3' '2' '2' '3' '2' '3' '3' '3' '3'\n",
      " '4' '4' '3' '2' '4' '4' '4' '4' '4' '4' '4' '4' '4' '3' '4' '4' '4' '2'\n",
      " '2' '3' '3' '4' '4' '4' '4' '4' '3' '4' '4' '4' '4' '4' '4' '3' '2' '3'\n",
      " '3' '3' '4' '4' '3' '3' '3' '3' '3' '2' '3' '4' '4' '3' '3' '4' '4' '4'\n",
      " '4' '4' '3' '2' '2' '3' '2' '3' '3' '2' '2' '2' '3' '2' '3' '3' '2' '2'\n",
      " '3' '3' '3' '3' '2' '3' '2' '2' '2' '3' '3' '2' '2' '2' '2' '2' '2' '4'\n",
      " '3' '3' '4' '2' '2' '3' '3' '3' '3' '3' '2' '4' '2' '2' '1' '2' '3' '3'\n",
      " '3' '2' '2' '2' '4' '3' '2' '3' '3' '4' '4' '3' '3' '1' '1' '1' '1' '1'\n",
      " '1' '1' '1' '1' '1' '1' '1' '1' '1' '1' '1' '1' '1' '1' '1' '1' '1' '1'\n",
      " '1' '1' '1' '1' '1' '1' '1' '1' '1' '1' '1' '3' '1' '1' '3' '1' '1' '2'\n",
      " '1' '1' '1' '1' '1' '1' '2' '1' '2' '1' '1' '1' '1' '1' '1' '1' '1' '1'\n",
      " '2' '1' '1' '1' '1' '1' '1' '1' '1' '1' '2' '1' '1' '1' '1' '1' '1' '1'\n",
      " '1' '1' '2' '1' '1' '1' '1' '1' '1' '2' '2' '2' '2' '2' '3' '2' '2' '1'\n",
      " '1' '2' '2' '2' '2' '3' '1' '1' '2' '1' '1' '3' '3' '3' '3' '2' '2' '2'\n",
      " '2' '2' '1' '1' '1' '1' '2' '2' '3' '2' '2' '2' '2' '2' '2' '3' '2' '3'\n",
      " '3' '2']\n"
     ]
    }
   ],
   "source": [
    "# You can call predict the same way we called predict to any other algorithm we used before\n",
    "y_hat = RFClass.predict(X)\n",
    "print(y_hat)"
   ]
  },
  {
   "cell_type": "markdown",
   "metadata": {},
   "source": [
    "# Boosting Algorithm - Regression"
   ]
  },
  {
   "cell_type": "markdown",
   "metadata": {},
   "source": [
    "For full documention, please refer to: http://scikit-learn.org/stable/modules/generated/sklearn.ensemble.GradientBoostingRegressor.html#sklearn.ensemble.GradientBoostingRegressor"
   ]
  },
  {
   "cell_type": "code",
   "execution_count": 16,
   "metadata": {
    "collapsed": true
   },
   "outputs": [],
   "source": [
    "y = BostonData['medv']\n"
   ]
  },
  {
   "cell_type": "code",
   "execution_count": 17,
   "metadata": {
    "collapsed": false
   },
   "outputs": [
    {
     "name": "stdout",
     "output_type": "stream",
     "text": [
      "18.8997803934\n"
     ]
    }
   ],
   "source": [
    "from sklearn.ensemble import GradientBoostingRegressor\n",
    "\n",
    "GBR_Tree = GradientBoostingRegressor(learning_rate = 0.01, # This is lambda, a tuning parameter, usually between 0.01 and 0.1\n",
    "                                     n_estimators = 1000, #This is B, a tuning parameter, using large B can cause overfitting\n",
    "                                     max_depth = 2, #This is d, another tuning parameter, usually max_depth < 5\n",
    "                                     min_samples_leaf = 10,\n",
    "                                     random_state = 1)\n",
    "\n",
    "score = (-cross_val_score(GBR_Tree, X, y, cv = 10, scoring = 'mean_squared_error',  n_jobs = -1)).mean()\n",
    "print(score)"
   ]
  },
  {
   "cell_type": "markdown",
   "metadata": {},
   "source": [
    "#### Tuning 3 parameters simultanously is a very time-consuming task. Let's tune it step by step and via a semi-greedy approach"
   ]
  },
  {
   "cell_type": "code",
   "execution_count": 18,
   "metadata": {
    "collapsed": false
   },
   "outputs": [
    {
     "data": {
      "image/png": "[encoded data removed]",
      "text/plain": [
       "<matplotlib.figure.Figure at 0x1106f1690>"
      ]
     },
     "metadata": {},
     "output_type": "display_data"
    }
   ],
   "source": [
    "Depth = range(1,5)\n",
    "Score = []\n",
    "for i in Depth:\n",
    "                GBR_Tree = GradientBoostingRegressor(learning_rate = 0.01, # This is lambda, a tuning parameter, usually between 0.01 and 0.1\n",
    "                                             n_estimators = 1000, #This is B, a tuning parameter, using large B can cause overfitting\n",
    "                                             max_depth = i, #This is d, another tuning parameter, usually max_depth < 5\n",
    "                                             min_samples_leaf = 10,\n",
    "                                             random_state = 1)\n",
    "        \n",
    "                Score.append(-cross_val_score(GBR_Tree, X, y, cv=10, scoring='mean_squared_error', n_jobs = -1).mean())\n",
    "\n",
    "plt.plot(Depth, Score)\n",
    "plt.xlabel(\"Depth\")\n",
    "plt.ylabel(\"CV - MSE\")\n",
    "plt.show()  \n",
    "\n",
    "# it seems like Max_Depth = 2 gives us the lowest CV-Error"
   ]
  },
  {
   "cell_type": "code",
   "execution_count": 19,
   "metadata": {
    "collapsed": false
   },
   "outputs": [
    {
     "data": {
      "image/png": "[encoded data removed]",
      "text/plain": [
       "<matplotlib.figure.Figure at 0x11052b510>"
      ]
     },
     "metadata": {},
     "output_type": "display_data"
    }
   ],
   "source": [
    "Score = []\n",
    "NumberOfTrees = [100,1000,5000,10000,20000]\n",
    "for i in NumberOfTrees:\n",
    "                GBR_Tree = GradientBoostingRegressor(learning_rate = 0.01, # This is lambda, a tuning parameter, usually between 0.01 and 0.1\n",
    "                                             n_estimators = i, #This is B, a tuning parameter, using large B can cause overfitting\n",
    "                                             max_depth = 2, #This is d, another tuning parameter, usually max_depth < 5\n",
    "                                             min_samples_leaf = 10)\n",
    "        \n",
    "                Score.append(-cross_val_score(GBR_Tree, X, y, cv = 10, scoring = 'mean_squared_error', n_jobs = -1).mean())\n",
    "\n",
    "plt.plot(NumberOfTrees, Score)\n",
    "plt.xlabel(\"Number of Trees\")\n",
    "plt.ylabel(\"CV - MSE\")\n",
    "plt.show()                  \n",
    "                \n",
    "            \n",
    "# it seems like at Tree_Size = 1000 \n",
    "# You can localize your search. Even further. For example try size of tree from 500 to 5000 with increments of 100\n",
    "# Remember Learning Rate and Number of trees should be tuned with one another. Lower leawrning rates require more trees"
   ]
  },
  {
   "cell_type": "code",
   "execution_count": 20,
   "metadata": {
    "collapsed": false
   },
   "outputs": [
    {
     "name": "stdout",
     "output_type": "stream",
     "text": [
      "Optimal tree = 1000 which leads to minimum error of 18.908070\n"
     ]
    }
   ],
   "source": [
    "Index_Min = np.argmin(Score)\n",
    "Optimal_tree = NumberOfTrees[Index_Min]\n",
    "print(\"Optimal tree = %i which leads to minimum error of %f\" %(Optimal_tree, np.min(Score)))"
   ]
  },
  {
   "cell_type": "markdown",
   "metadata": {},
   "source": [
    "# Boosting Algorithm - Classification"
   ]
  },
  {
   "cell_type": "markdown",
   "metadata": {},
   "source": [
    "Please refer to the following link for its documentation: http://scikit-learn.org/stable/modules/generated/sklearn.ensemble.GradientBoostingClassifier.html"
   ]
  },
  {
   "cell_type": "code",
   "execution_count": 21,
   "metadata": {
    "collapsed": true
   },
   "outputs": [],
   "source": [
    "y = BostonData['medvCategory']"
   ]
  },
  {
   "cell_type": "code",
   "execution_count": 22,
   "metadata": {
    "collapsed": false
   },
   "outputs": [
    {
     "name": "stdout",
     "output_type": "stream",
     "text": [
      "0.751098039216\n"
     ]
    }
   ],
   "source": [
    "from sklearn.ensemble import GradientBoostingClassifier\n",
    "GBC_Tree = GradientBoostingClassifier(learning_rate = 0.01,\n",
    "                                      n_estimators = 1000,\n",
    "                                      max_depth = 2,\n",
    "                                      min_samples_leaf = 10,\n",
    "                                      random_state = 1)\n",
    "\n",
    "# Unfortunately we cannot use cross_val_score in this case. cross_val_score returns log of loss which is not a \n",
    "# measure we are interested in, in this course. \n",
    "\n",
    "from sklearn import cross_validation\n",
    "\n",
    "kf = cross_validation.KFold(len(BostonData), n_folds = 10, shuffle = True) #10 fold CV\n",
    "\n",
    "scores = []\n",
    "\n",
    "for train_index, test_index in kf:        \n",
    "        GBC_Tree.fit(X.iloc[train_index], y.iloc[train_index])\n",
    "        y_hat_test = GBC_Tree.predict(X.iloc[test_index]) \n",
    "        scores.append(float(sum(y_hat_test == y.iloc[test_index]))/len(y_hat_test))\n",
    "\n",
    "Score_GBC_CV = np.mean(scores)    \n",
    "\n",
    "print(Score_GBC_CV) \n"
   ]
  },
  {
   "cell_type": "code",
   "execution_count": null,
   "metadata": {
    "collapsed": true
   },
   "outputs": [],
   "source": []
  },
  {
   "cell_type": "markdown",
   "metadata": {},
   "source": [
    "# Tune your algorithm to get better predictibility"
   ]
  },
  {
   "cell_type": "code",
   "execution_count": null,
   "metadata": {
    "collapsed": true
   },
   "outputs": [],
   "source": []
  }
 ],
 "metadata": {
  "kernelspec": {
   "display_name": "Python 2",
   "language": "python",
   "name": "python2"
  },
  "language_info": {
   "codemirror_mode": {
    "name": "ipython",
    "version": 2
   },
   "file_extension": ".py",
   "mimetype": "text/x-python",
   "name": "python",
   "nbconvert_exporter": "python",
   "pygments_lexer": "ipython2",
   "version": "2.7.11"
  }
 },
 "nbformat": 4,
 "nbformat_minor": 0
}
