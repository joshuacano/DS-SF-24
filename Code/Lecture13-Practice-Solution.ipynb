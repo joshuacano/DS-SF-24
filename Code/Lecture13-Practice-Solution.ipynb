{
 "cells": [
  {
   "cell_type": "code",
   "execution_count": 1,
   "metadata": {
    "collapsed": true
   },
   "outputs": [],
   "source": [
    "# usual imports\n",
    "import numpy as np\n",
    "import matplotlib.pyplot as plt\n",
    "import pandas as pd\n",
    "\n",
    "\n",
    "%matplotlib notebook\n",
    "\n",
    "from sklearn.cross_validation import train_test_split\n",
    "\n",
    "# Each is a different implemntation of a text transform tool: Bag of Words & Tfidf\n",
    "from sklearn.feature_extraction.text import CountVectorizer, TfidfVectorizer"
   ]
  },
  {
   "cell_type": "markdown",
   "metadata": {},
   "source": [
    "#### read yelp_labelled data and split it using \\t"
   ]
  },
  {
   "cell_type": "code",
   "execution_count": 2,
   "metadata": {
    "collapsed": false
   },
   "outputs": [
    {
     "data": {
      "text/html": [
       "<div>\n",
       "<table border=\"1\" class=\"dataframe\">\n",
       "  <thead>\n",
       "    <tr style=\"text-align: right;\">\n",
       "      <th></th>\n",
       "      <th>text</th>\n",
       "      <th>sentiment</th>\n",
       "    </tr>\n",
       "  </thead>\n",
       "  <tbody>\n",
       "    <tr>\n",
       "      <th>0</th>\n",
       "      <td>Wow... Loved this place.</td>\n",
       "      <td>1</td>\n",
       "    </tr>\n",
       "    <tr>\n",
       "      <th>1</th>\n",
       "      <td>I learned that if an electric slicer is used t...</td>\n",
       "      <td>NaN</td>\n",
       "    </tr>\n",
       "    <tr>\n",
       "      <th>2</th>\n",
       "      <td>But they don't clean the chiles?</td>\n",
       "      <td>NaN</td>\n",
       "    </tr>\n",
       "    <tr>\n",
       "      <th>3</th>\n",
       "      <td>Crust is not good.</td>\n",
       "      <td>0</td>\n",
       "    </tr>\n",
       "    <tr>\n",
       "      <th>4</th>\n",
       "      <td>Not tasty and the texture was just nasty.</td>\n",
       "      <td>0</td>\n",
       "    </tr>\n",
       "  </tbody>\n",
       "</table>\n",
       "</div>"
      ],
      "text/plain": [
       "                                                text  sentiment\n",
       "0                           Wow... Loved this place.          1\n",
       "1  I learned that if an electric slicer is used t...        NaN\n",
       "2                   But they don't clean the chiles?        NaN\n",
       "3                                 Crust is not good.          0\n",
       "4          Not tasty and the texture was just nasty.          0"
      ]
     },
     "execution_count": 2,
     "metadata": {},
     "output_type": "execute_result"
    }
   ],
   "source": [
    "url = \"https://raw.githubusercontent.com/ga-students/DS-SF-24/master/Data/yelp_labelled.txt\"\n",
    "Yelp_data = pd.read_csv(url , sep = \"\\t\", names = ['text','sentiment'])\n",
    "Yelp_data.head()"
   ]
  },
  {
   "cell_type": "markdown",
   "metadata": {},
   "source": [
    "#### Put your yelp data into a dataframe and drop na values."
   ]
  },
  {
   "cell_type": "code",
   "execution_count": 3,
   "metadata": {
    "collapsed": false
   },
   "outputs": [
    {
     "data": {
      "text/html": [
       "<div>\n",
       "<table border=\"1\" class=\"dataframe\">\n",
       "  <thead>\n",
       "    <tr style=\"text-align: right;\">\n",
       "      <th></th>\n",
       "      <th>text</th>\n",
       "      <th>sentiment</th>\n",
       "    </tr>\n",
       "  </thead>\n",
       "  <tbody>\n",
       "    <tr>\n",
       "      <th>0</th>\n",
       "      <td>Wow... Loved this place.</td>\n",
       "      <td>1</td>\n",
       "    </tr>\n",
       "    <tr>\n",
       "      <th>3</th>\n",
       "      <td>Crust is not good.</td>\n",
       "      <td>0</td>\n",
       "    </tr>\n",
       "    <tr>\n",
       "      <th>4</th>\n",
       "      <td>Not tasty and the texture was just nasty.</td>\n",
       "      <td>0</td>\n",
       "    </tr>\n",
       "    <tr>\n",
       "      <th>10</th>\n",
       "      <td>Stopped by during the late May bank holiday of...</td>\n",
       "      <td>1</td>\n",
       "    </tr>\n",
       "    <tr>\n",
       "      <th>11</th>\n",
       "      <td>The selection on the menu was great and so wer...</td>\n",
       "      <td>1</td>\n",
       "    </tr>\n",
       "  </tbody>\n",
       "</table>\n",
       "</div>"
      ],
      "text/plain": [
       "                                                 text  sentiment\n",
       "0                            Wow... Loved this place.          1\n",
       "3                                  Crust is not good.          0\n",
       "4           Not tasty and the texture was just nasty.          0\n",
       "10  Stopped by during the late May bank holiday of...          1\n",
       "11  The selection on the menu was great and so wer...          1"
      ]
     },
     "execution_count": 3,
     "metadata": {},
     "output_type": "execute_result"
    }
   ],
   "source": [
    "Yelp_data.dropna(inplace = True)\n",
    "Yelp_data.head()"
   ]
  },
  {
   "cell_type": "code",
   "execution_count": 4,
   "metadata": {
    "collapsed": false
   },
   "outputs": [
    {
     "data": {
      "text/html": [
       "<div>\n",
       "<table border=\"1\" class=\"dataframe\">\n",
       "  <thead>\n",
       "    <tr style=\"text-align: right;\">\n",
       "      <th></th>\n",
       "      <th>sentiment</th>\n",
       "    </tr>\n",
       "  </thead>\n",
       "  <tbody>\n",
       "    <tr>\n",
       "      <th>count</th>\n",
       "      <td>1000.00000</td>\n",
       "    </tr>\n",
       "    <tr>\n",
       "      <th>mean</th>\n",
       "      <td>0.50000</td>\n",
       "    </tr>\n",
       "    <tr>\n",
       "      <th>std</th>\n",
       "      <td>0.50025</td>\n",
       "    </tr>\n",
       "    <tr>\n",
       "      <th>min</th>\n",
       "      <td>0.00000</td>\n",
       "    </tr>\n",
       "    <tr>\n",
       "      <th>25%</th>\n",
       "      <td>0.00000</td>\n",
       "    </tr>\n",
       "    <tr>\n",
       "      <th>50%</th>\n",
       "      <td>0.50000</td>\n",
       "    </tr>\n",
       "    <tr>\n",
       "      <th>75%</th>\n",
       "      <td>1.00000</td>\n",
       "    </tr>\n",
       "    <tr>\n",
       "      <th>max</th>\n",
       "      <td>1.00000</td>\n",
       "    </tr>\n",
       "  </tbody>\n",
       "</table>\n",
       "</div>"
      ],
      "text/plain": [
       "        sentiment\n",
       "count  1000.00000\n",
       "mean      0.50000\n",
       "std       0.50025\n",
       "min       0.00000\n",
       "25%       0.00000\n",
       "50%       0.50000\n",
       "75%       1.00000\n",
       "max       1.00000"
      ]
     },
     "execution_count": 4,
     "metadata": {},
     "output_type": "execute_result"
    }
   ],
   "source": [
    "Yelp_data.describe()"
   ]
  },
  {
   "cell_type": "markdown",
   "metadata": {},
   "source": [
    "#### Using Pipeline, RandomForestClasifier, and GridSearchCV, play with min_df and max_df on your yelp data. Split your data to test and training. You can use either of CountVetorizer or TfidfVectorizer"
   ]
  },
  {
   "cell_type": "code",
   "execution_count": 5,
   "metadata": {
    "collapsed": true
   },
   "outputs": [],
   "source": [
    "from sklearn.pipeline import Pipeline\n",
    "from sklearn.ensemble import RandomForestClassifier\n",
    "from sklearn.grid_search import GridSearchCV"
   ]
  },
  {
   "cell_type": "code",
   "execution_count": 6,
   "metadata": {
    "collapsed": false
   },
   "outputs": [],
   "source": [
    "from sklearn.cross_validation import train_test_split\n",
    "from sklearn.metrics import classification_report\n",
    "# Resetting our data\n",
    "X_train, X_test, y_train, y_test = train_test_split(Yelp_data['text'], Yelp_data['sentiment'], test_size=0.2)"
   ]
  },
  {
   "cell_type": "code",
   "execution_count": 7,
   "metadata": {
    "collapsed": true
   },
   "outputs": [],
   "source": [
    "text_clf = Pipeline([('vect', CountVectorizer()),\n",
    "                     ('clf', RandomForestClassifier())])"
   ]
  },
  {
   "cell_type": "code",
   "execution_count": 8,
   "metadata": {
    "collapsed": true
   },
   "outputs": [],
   "source": [
    "parameters = {'vect__min_df':[1,2,3],\n",
    "              'vect__max_df':[5,10,100,200,500,1000],\n",
    "              'clf__n_estimators':[1000]}\n",
    "\n",
    "gs_clf = GridSearchCV(text_clf, parameters, cv = 10, n_jobs = -1)"
   ]
  },
  {
   "cell_type": "code",
   "execution_count": 9,
   "metadata": {
    "collapsed": true
   },
   "outputs": [],
   "source": [
    "fit_grid = gs_clf.fit(X_train, y_train)\n"
   ]
  },
  {
   "cell_type": "markdown",
   "metadata": {},
   "source": [
    "#### How much test error do you get based on the optimizer you found above?"
   ]
  },
  {
   "cell_type": "code",
   "execution_count": 10,
   "metadata": {
    "collapsed": false
   },
   "outputs": [
    {
     "data": {
      "text/plain": [
       "0.78500000000000003"
      ]
     },
     "execution_count": 10,
     "metadata": {},
     "output_type": "execute_result"
    }
   ],
   "source": [
    "fit_grid.score(X_test, y_test)"
   ]
  },
  {
   "cell_type": "markdown",
   "metadata": {},
   "source": [
    "#### Look over few (first 5) X_test instances and compare the category predicted for the observation and the actual review sentence. "
   ]
  },
  {
   "cell_type": "code",
   "execution_count": 11,
   "metadata": {
    "collapsed": false
   },
   "outputs": [
    {
     "name": "stdout",
     "output_type": "stream",
     "text": [
      "1.0\n",
      "definitely will come back here again.\n",
      "0.0\n",
      "I mean really, how do you get so famous for your fish and chips when it's so terrible!?!\n",
      "0.0\n",
      "My fella got the huevos rancheros and they didn't look too appealing.\n",
      "0.0\n",
      "The cashier had no care what so ever on what I had to say it still ended up being wayyy overpriced.\n",
      "1.0\n",
      "Good prices.\n"
     ]
    }
   ],
   "source": [
    "for i in range(5):\n",
    "    print(fit_grid.predict(X_test)[i])\n",
    "    print(X_test.values[i])"
   ]
  },
  {
   "cell_type": "markdown",
   "metadata": {},
   "source": [
    "## Bonus Quetions: Can you find the test instances that are correctly classified and thos that are misclassified?"
   ]
  },
  {
   "cell_type": "code",
   "execution_count": 12,
   "metadata": {
    "collapsed": false
   },
   "outputs": [
    {
     "name": "stdout",
     "output_type": "stream",
     "text": [
      "An absolute must visit!\n",
      "I *heart* this place.\n",
      "Main thing I didn't enjoy is that the crowd is of older crowd, around mid 30s and up.\n",
      "The Veggitarian platter is out of this world!\n",
      "The one down note is the ventilation could use some upgrading.\n",
      "The Greek dressing was very creamy and flavorful.\n",
      "The grilled chicken was so tender and yellow from the saffron seasoning.\n",
      "The waiter wasn't helpful or friendly and rarely checked on us.\n",
      "This is a disgrace.\n",
      "These are the nicest restaurant owners I've ever come across.\n",
      "What I really like there is the crepe station.\n",
      "One of the few places in Phoenix that I would definately go back to again .\n",
      "You can't beat that.\n",
      "So they performed.\n",
      "Hands down my favorite Italian restaurant!\n",
      "So flavorful and has just the perfect amount of heat.\n",
      "Omelets are to die for!\n",
      "It was attached to a gas station, and that is rarely a good sign.\n",
      "Level 5 spicy was perfect, where spice didn't over-whelm the soup.\n",
      "First time going but I think I will quickly become a regular.\n",
      "I would recommend saving room for this!\n",
      "Def coming back to bowl next time\n",
      "The vegetables are so fresh and the sauce feels like authentic Thai.\n",
      "After one bite, I was hooked.\n",
      "If you haven't gone here GO NOW!\n",
      "Overall, I like there food and the service.\n",
      "I gave it 5 stars then, and I'm giving it 5 stars now.\n",
      "Not a weekly haunt, but definitely a place to come back to every once in a while.\n",
      "This place has it!\n",
      "I had a seriously solid breakfast here.\n",
      "You won't be disappointed.\n",
      "Cute, quaint, simple, honest.\n",
      "The tables outside are also dirty a lot of the time and the workers are not always friendly and helpful with the menu.\n",
      "This one is simply a disappointment.\n",
      "I'm so happy to be here!!!\"\n",
      "Seriously flavorful delights, folks.\n",
      "It was just not a fun experience.\n",
      "The goat taco didn't skimp on the meat and wow what FLAVOR!\n",
      "You cant go wrong with any of the food here.\n",
      "The portion was huge!\n",
      "Come hungry, leave happy and stuffed!\n",
      "I will be back many times soon.\n",
      "They have a plethora of salads and sandwiches, and everything I've tried gets my seal of approval.\n"
     ]
    }
   ],
   "source": [
    "#Misclassified instances\n",
    "count  = range(len(y_test))\n",
    "for i in count:\n",
    "    if fit_grid.predict(X_test)[i] != y_test.values[i]:\n",
    "        print (X_test.values[i])\n"
   ]
  },
  {
   "cell_type": "code",
   "execution_count": 13,
   "metadata": {
    "collapsed": false
   },
   "outputs": [
    {
     "name": "stdout",
     "output_type": "stream",
     "text": [
      "definitely will come back here again.\n",
      "I mean really, how do you get so famous for your fish and chips when it's so terrible!?!\n",
      "My fella got the huevos rancheros and they didn't look too appealing.\n",
      "The cashier had no care what so ever on what I had to say it still ended up being wayyy overpriced.\n",
      "Good prices.\n",
      "The servers are not pleasant to deal with and they don't always honor Pizza Hut coupons.\n",
      "All in all, Ha Long Bay was a bit of a flop.\n",
      "After two I felt disgusting.\n",
      "The sergeant pepper beef sandwich with auju sauce is an excellent sandwich as well.\n",
      "Their menu is diverse, and reasonably priced.\n",
      "The selection was probably the worst I've seen in Vegas.....there was none.\n",
      "Great Subway, in fact it's so good when you come here every other Subway will not meet your expectations.\n",
      "The burger is good beef, cooked just right.\n",
      "Definitely worth venturing off the strip for the pork belly, will return next time I'm in Vegas.\n",
      "This place is a jewel in Las Vegas, and exactly what I've been hoping to find in nearly ten years living here.\n",
      "Definitely not worth the $3 I paid.\n",
      "Don't do it!!!!\n",
      "We walked away stuffed and happy about our first Vegas buffet experience.\n",
      "By this point, my friends and I had basically figured out this place was a joke and didn't mind making it publicly and loudly known.\n",
      "We recently witnessed her poor quality of management towards other guests as well.\n",
      "The service was not up to par, either.\n",
      "It was a bit too sweet, not really spicy enough, and lacked flavor.\n",
      "The refried beans that came with my meal were dried out and crusty and the food was bland.\n",
      "I never come again.\n",
      "We've have gotten a much better service from the pizza place next door than the services we received from this restaurant.\n",
      "REAL sushi lovers, let's be honest - Yama is not that good.\n",
      "The food, amazing.\n",
      "For that price I can think of a few place I would have much rather gone.\n",
      "Awesome service and food.\n",
      "Anyway, this FS restaurant has a wonderful breakfast/lunch.\n",
      "Pretty good beer selection too.\n",
      "This place is great!!!!!!!!!!!!!!\n",
      "Their daily specials are always a hit with my group.\n",
      "Both of the egg rolls were fantastic.\n",
      "All the bread is made in-house!\n",
      "first time there and might just be the last.\n",
      "At first glance it is a lovely bakery cafe - nice ambiance, clean, friendly staff.\n",
      "The flair bartenders are absolutely amazing!\n",
      "Fantastic service here.\n",
      "This isn't a small family restaurant, this is a fine dining establishment.\n",
      "The sangria was about half of a glass wine full and was $12, ridiculous.\n",
      "I will not be eating there again.\n",
      "Not a single employee came out to see if we were OK or even needed a water refill once they finally served us our food.\n",
      "The place was fairly clean but the food simply wasn't worth it.\n",
      "Service is quick and friendly.\n",
      "Now the pizza itself was good the peanut sauce was very tasty.\n",
      "Needless to say, we will never be back here again.\n",
      "Great pork sandwich.\n",
      "This is the place where I first had pho and it was amazing!!\n",
      "Ordered an appetizer and took 40 minutes and then the pizza another 10 minutes.\n",
      "My salad had a bland vinegrette on the baby greens and hearts of Palm.\n",
      "When I'm on this side of town, this will definitely be a spot I'll hit up again!\n",
      "Soggy and not good.\n",
      "Not tasty and the texture was just nasty.\n",
      "But then they came back cold.\n",
      "As for the service, I thought it was good.\n",
      "Honeslty it didn't taste THAT fresh.)\n",
      "We ordered some old classics and some new dishes after going there a few times and were sorely disappointed with everything.\n",
      "This wonderful experience made this place a must-stop whenever we are in town again.\n",
      "Went in for happy hour, great list of wines.\n",
      "And the drinks are WEAK, people!\n",
      "Thoroughly disappointed!\n",
      "My friend did not like his Bloody Mary.\n",
      "They have great dinners.\n",
      "Total letdown, I would much rather just go to the Camelback Flower Shop and Cartel Coffee.\n",
      "Appetite instantly gone.\n",
      "However, my recent experience at this particular location was not so good.\n",
      "And service was super friendly.\n",
      "What SHOULD have been a hilarious, yummy Christmas Eve dinner to remember was the biggest fail of the entire trip for us.\n",
      "Then our food came out, disappointment ensued.\n",
      "Great food and service, huge portions and they give a military discount.\n",
      "Classy/warm atmosphere, fun and fresh appetizers, succulent steaks (Baseball steak!!!!!\n",
      "Also, I feel like the chips are bought, not made in house.\n",
      "Just as good as when I had it more than a year ago!\n",
      "I could barely stomach the meal, but didn't complain because it was a business lunch.\n",
      "Just had lunch here and had a great experience.\n",
      "- the food is rich so order accordingly.\n",
      "- They never brought a salad we asked for.\n",
      "Wow... Loved this place.\n",
      "Waited 2 hours & never got either of our pizzas as many other around us who came in later did!\n",
      "I probably would not go here again.\n",
      "A greasy, unhealthy meal.\n",
      "Love the margaritas, too!\n",
      "The chicken was deliciously seasoned and had the perfect fry on the outside and moist chicken on the inside.\n",
      "The bartender was also nice.\n",
      "We literally sat there for 20 minutes with no one asking to take our order.\n",
      "Talk about great customer service of course we will be back.\n",
      "A good time!\n",
      "The food is delicious and just spicy enough, so be sure to ask for spicier if you prefer it that way.\n",
      "Will never, ever go back.\n",
      "Everyone is very attentive, providing excellent customer service.\n",
      "Ryan's Bar is definitely one Edinburgh establishment I won't be revisiting.\n",
      "I have been in more than a few bars in Vegas, and do not ever recall being charged for tap water.\n",
      "Delicious NYC bagels, good selections of cream cheese, real Lox with capers even.\n",
      "This hole in the wall has great Mexican street tacos, and friendly staff.\n",
      "Eew... This location needs a complete overhaul.\n",
      "The cocktails are all handmade and delicious.\n",
      "If there were zero stars I would give it zero stars.\n",
      "This place is amazing!\n",
      "this place is good.\n",
      "Food was great and so was the serivce!\n",
      "The ripped banana was not only ripped, but petrified and tasteless.\n",
      "Good service, very clean, and inexpensive, to boot!\n",
      "This is my new fav Vegas buffet spot.\n",
      "There is not a deal good enough that would drag me into that establishment again.\n",
      "I ate there twice on my last visit, and especially enjoyed the salmon salad.\n",
      "Food was really boring.\n",
      "I don't have to be an accountant to know I'm getting screwed!\n",
      "The seafood was fresh and generous in portion.\n",
      "not even a \"hello, we will be right with you.\"\n",
      "Overall, a great experience.\n",
      "Food was delicious!\n",
      "Must have been an off night at this place.\n",
      "This is a really fantastic Thai restaurant which is definitely worth a visit.\n",
      "We started with the tuna sashimi which was brownish in color and obviously wasn't fresh.\n",
      "Everything on the menu is terrific and we were also thrilled that they made amazing accommodations for our vegetarian daughter.\n",
      "I vomited in the bathroom mid lunch.\n",
      "Just spicy enough.. Perfect actually.\n",
      "Oh this is such a thing of beauty, this restaurant.\n",
      "I also decided not to send it back because our waitress looked like she was on the verge of having a heart attack.\n",
      "The Macarons here are insanely good.\n",
      "Loved it...friendly servers, great food, wonderful and imaginative menu.\n",
      "I also had to taste my Mom's multi-grain pumpkin pancakes with pecan butter and they were amazing, fluffy, and delicious!\n",
      "They had a toro tartare with a cavier that was extraordinary and I liked the thinly sliced wagyu with white truffle.\n",
      "Their frozen margaritas are WAY too sugary for my taste.\n",
      "This place is awesome if you want something light and healthy during the summer.\n",
      "Their regular toasted bread was equally satisfying with the occasional pats of butter... Mmmm...!\n",
      "After I pulled up my car I waited for another 15 minutes before being acknowledged.\n",
      "This is an Outstanding little restaurant with some of the Best Food I have ever tasted.\n",
      "Food was average at best.\n",
      "Best service and food ever, Maria our server was so good and friendly she made our day.\n",
      "The Han Nan Chicken was also very tasty.\n",
      "Poor service, the waiter made me feel like I was stupid every time he came to the table.\n",
      "the food is not tasty at all, not to say its \"real traditional Hunan style\".\n",
      "I'll take my business dinner dollars elsewhere.\n",
      "This was like the final blow!\n",
      "A fantastic neighborhood gem !!!\n",
      "Everything was fresh and delicious!\n",
      "The waitress and manager are so friendly.\n",
      "We'd definitely go back here again.\n",
      "However, there was so much garlic in the fondue, it was barely edible.\n",
      "If that bug never showed up I would have given a 4 for sure, but on the other side of the wall where this bug was climbing was the kitchen.\n",
      "We were sat right on time and our server from the get go was FANTASTIC!\n",
      "I was disgusted because I was pretty sure that was human hair.\n",
      "Good Service-check!\n",
      "dont go here.\n",
      "Food was good, service was good, Prices were good.\n",
      "Of all the dishes, the salmon was the best, but all were great.\n",
      "The staff was very attentive.\n",
      "The server was very negligent of our needs and made us feel very unwelcome... I would not suggest this place!\n",
      "I immediately said I wanted to talk to the manager but I did not want to talk to the guy who was doing shots of fireball behind the bar.\n",
      "Nice ambiance.\n",
      "We'll never go again.\n",
      "But I definitely would not eat here again.\n",
      "I'm not sure how long we stood there but it was long enough for me to begin to feel awkwardly out of place.\n",
      "Best Buffet in town, for the price you cannot beat it.\n",
      "Four stars for the food & the guy in the blue shirt for his great vibe & still letting us in to eat !\n"
     ]
    }
   ],
   "source": [
    "#Correctly Classified instances\n",
    "\n",
    "count  = range(len(y_test))\n",
    "for i in count:\n",
    "    if fit_grid.predict(X_test)[i] == y_test.values[i]:\n",
    "        print (X_test.values[i])"
   ]
  },
  {
   "cell_type": "code",
   "execution_count": null,
   "metadata": {
    "collapsed": true
   },
   "outputs": [],
   "source": []
  }
 ],
 "metadata": {
  "kernelspec": {
   "display_name": "Python 2",
   "language": "python",
   "name": "python2"
  },
  "language_info": {
   "codemirror_mode": {
    "name": "ipython",
    "version": 2
   },
   "file_extension": ".py",
   "mimetype": "text/x-python",
   "name": "python",
   "nbconvert_exporter": "python",
   "pygments_lexer": "ipython2",
   "version": "2.7.11"
  }
 },
 "nbformat": 4,
 "nbformat_minor": 0
}
