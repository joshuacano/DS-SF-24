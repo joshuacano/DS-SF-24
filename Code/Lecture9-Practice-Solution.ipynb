{
 "cells": [
  {
   "cell_type": "code",
   "execution_count": 1,
   "metadata": {
    "collapsed": true
   },
   "outputs": [],
   "source": [
    "import pandas as pd\n",
    "import numpy as np\n",
    "from sklearn.linear_model import LogisticRegression\n",
    "from sklearn.cross_validation import cross_val_score\n",
    "from sklearn.metrics import confusion_matrix\n",
    "import matplotlib.pyplot as plt\n",
    "%matplotlib inline"
   ]
  },
  {
   "cell_type": "code",
   "execution_count": 2,
   "metadata": {
    "collapsed": true
   },
   "outputs": [],
   "source": [
    "url = \"https://raw.githubusercontent.com/ga-students/DS-SF-24/master/Data/myopia.csv\"\n",
    "MyopiaData = pd.read_csv(url)"
   ]
  },
  {
   "cell_type": "code",
   "execution_count": 3,
   "metadata": {
    "collapsed": false
   },
   "outputs": [
    {
     "data": {
      "text/html": [
       "<div>\n",
       "<table border=\"1\" class=\"dataframe\">\n",
       "  <thead>\n",
       "    <tr style=\"text-align: right;\">\n",
       "      <th></th>\n",
       "      <th>ID</th>\n",
       "      <th>STUDYYEAR</th>\n",
       "      <th>MYOPIC</th>\n",
       "      <th>AGE</th>\n",
       "      <th>GENDER</th>\n",
       "      <th>SPHEQ</th>\n",
       "      <th>AL</th>\n",
       "      <th>ACD</th>\n",
       "      <th>LT</th>\n",
       "      <th>VCD</th>\n",
       "      <th>SPORTHR</th>\n",
       "      <th>READHR</th>\n",
       "      <th>COMPHR</th>\n",
       "      <th>STUDYHR</th>\n",
       "      <th>TVHR</th>\n",
       "      <th>DIOPTERHR</th>\n",
       "      <th>MOMMY</th>\n",
       "      <th>DADMY</th>\n",
       "    </tr>\n",
       "  </thead>\n",
       "  <tbody>\n",
       "    <tr>\n",
       "      <th>0</th>\n",
       "      <td>1</td>\n",
       "      <td>1992</td>\n",
       "      <td>1</td>\n",
       "      <td>6</td>\n",
       "      <td>1</td>\n",
       "      <td>-0.052</td>\n",
       "      <td>21.89</td>\n",
       "      <td>3.690</td>\n",
       "      <td>3.498</td>\n",
       "      <td>14.70</td>\n",
       "      <td>45</td>\n",
       "      <td>8</td>\n",
       "      <td>0</td>\n",
       "      <td>0</td>\n",
       "      <td>10</td>\n",
       "      <td>34</td>\n",
       "      <td>1</td>\n",
       "      <td>1</td>\n",
       "    </tr>\n",
       "    <tr>\n",
       "      <th>1</th>\n",
       "      <td>2</td>\n",
       "      <td>1995</td>\n",
       "      <td>0</td>\n",
       "      <td>6</td>\n",
       "      <td>1</td>\n",
       "      <td>0.608</td>\n",
       "      <td>22.38</td>\n",
       "      <td>3.702</td>\n",
       "      <td>3.392</td>\n",
       "      <td>15.29</td>\n",
       "      <td>4</td>\n",
       "      <td>0</td>\n",
       "      <td>1</td>\n",
       "      <td>1</td>\n",
       "      <td>7</td>\n",
       "      <td>12</td>\n",
       "      <td>1</td>\n",
       "      <td>1</td>\n",
       "    </tr>\n",
       "    <tr>\n",
       "      <th>2</th>\n",
       "      <td>3</td>\n",
       "      <td>1991</td>\n",
       "      <td>0</td>\n",
       "      <td>6</td>\n",
       "      <td>1</td>\n",
       "      <td>1.179</td>\n",
       "      <td>22.49</td>\n",
       "      <td>3.462</td>\n",
       "      <td>3.514</td>\n",
       "      <td>15.52</td>\n",
       "      <td>14</td>\n",
       "      <td>0</td>\n",
       "      <td>2</td>\n",
       "      <td>0</td>\n",
       "      <td>10</td>\n",
       "      <td>14</td>\n",
       "      <td>0</td>\n",
       "      <td>0</td>\n",
       "    </tr>\n",
       "    <tr>\n",
       "      <th>3</th>\n",
       "      <td>4</td>\n",
       "      <td>1990</td>\n",
       "      <td>1</td>\n",
       "      <td>6</td>\n",
       "      <td>1</td>\n",
       "      <td>0.525</td>\n",
       "      <td>22.20</td>\n",
       "      <td>3.862</td>\n",
       "      <td>3.612</td>\n",
       "      <td>14.73</td>\n",
       "      <td>18</td>\n",
       "      <td>11</td>\n",
       "      <td>0</td>\n",
       "      <td>0</td>\n",
       "      <td>4</td>\n",
       "      <td>37</td>\n",
       "      <td>0</td>\n",
       "      <td>1</td>\n",
       "    </tr>\n",
       "    <tr>\n",
       "      <th>4</th>\n",
       "      <td>5</td>\n",
       "      <td>1995</td>\n",
       "      <td>0</td>\n",
       "      <td>5</td>\n",
       "      <td>0</td>\n",
       "      <td>0.697</td>\n",
       "      <td>23.29</td>\n",
       "      <td>3.676</td>\n",
       "      <td>3.454</td>\n",
       "      <td>16.16</td>\n",
       "      <td>14</td>\n",
       "      <td>0</td>\n",
       "      <td>0</td>\n",
       "      <td>0</td>\n",
       "      <td>4</td>\n",
       "      <td>4</td>\n",
       "      <td>1</td>\n",
       "      <td>0</td>\n",
       "    </tr>\n",
       "  </tbody>\n",
       "</table>\n",
       "</div>"
      ],
      "text/plain": [
       "   ID  STUDYYEAR  MYOPIC  AGE  GENDER  SPHEQ     AL    ACD     LT    VCD  \\\n",
       "0   1       1992       1    6       1 -0.052  21.89  3.690  3.498  14.70   \n",
       "1   2       1995       0    6       1  0.608  22.38  3.702  3.392  15.29   \n",
       "2   3       1991       0    6       1  1.179  22.49  3.462  3.514  15.52   \n",
       "3   4       1990       1    6       1  0.525  22.20  3.862  3.612  14.73   \n",
       "4   5       1995       0    5       0  0.697  23.29  3.676  3.454  16.16   \n",
       "\n",
       "   SPORTHR  READHR  COMPHR  STUDYHR  TVHR  DIOPTERHR  MOMMY  DADMY  \n",
       "0       45       8       0        0    10         34      1      1  \n",
       "1        4       0       1        1     7         12      1      1  \n",
       "2       14       0       2        0    10         14      0      0  \n",
       "3       18      11       0        0     4         37      0      1  \n",
       "4       14       0       0        0     4          4      1      0  "
      ]
     },
     "execution_count": 3,
     "metadata": {},
     "output_type": "execute_result"
    }
   ],
   "source": [
    "MyopiaData.head()"
   ]
  },
  {
   "cell_type": "markdown",
   "metadata": {},
   "source": [
    "Here is our dataset dictionary: https://www.umass.edu/statdata/statdata/data/myopia.pdf"
   ]
  },
  {
   "cell_type": "markdown",
   "metadata": {},
   "source": [
    "#### We are interested in finding out what contributes to Myopia the most. My grandmother always told me not to watch TV or play with computer. Her hypothesis was that they will cause Myopia. (She was strangely fine with studying!). It sounds like Drs share the same point of view with my grandmother \" http://www.allaboutvision.com/conditions/myopia.htm \"\n",
    "\n",
    "#### We are DataScientist and don't trust our grandmothers or DRs unless we find the same result! Now, let's go and explore Myopia!\n",
    "\n",
    "\n"
   ]
  },
  {
   "cell_type": "code",
   "execution_count": 4,
   "metadata": {
    "collapsed": true
   },
   "outputs": [],
   "source": [
    "# Year of study and id should not affect anything so we disregard them in this study. \n",
    "# we consider two types of inputs - first all general inputs - i.e. physical and external inputs\n",
    "# second only external inputs\n",
    "X1 = MyopiaData[['SPHEQ','AL','ACD','LT','VCD','AGE','GENDER','SPORTHR','READHR','COMPHR','STUDYHR','TVHR','DIOPTERHR','MOMMY','DADMY']]\n",
    "X2 = MyopiaData[['AGE','GENDER','SPORTHR','READHR','COMPHR','STUDYHR','TVHR','DIOPTERHR','MOMMY','DADMY']]\n",
    "y = MyopiaData['MYOPIC']\n"
   ]
  },
  {
   "cell_type": "markdown",
   "metadata": {},
   "source": [
    "Run your regression line on X1 and interpret your MOMMY AND DADMY coefficients. Assume variables are significant. "
   ]
  },
  {
   "cell_type": "code",
   "execution_count": 5,
   "metadata": {
    "collapsed": false
   },
   "outputs": [
    {
     "name": "stdout",
     "output_type": "stream",
     "text": [
      "[('SPHEQ', -3.4114848074587307), ('AL', 0.015065965598337812), ('ACD', 0.7641730167304045), ('LT', -0.44270402800075204), ('VCD', -0.28863399141622037), ('AGE', -0.0069140603567192033), ('GENDER', 0.50381719268250436), ('SPORTHR', -0.047423567735703775), ('READHR', 0.0974100564783488), ('COMPHR', 0.049020413221919176), ('STUDYHR', -0.131226643021705), ('TVHR', -0.0042628376562762367), ('DIOPTERHR', -0.0076717708427167493), ('MOMMY', 0.63964888621557436), ('DADMY', 0.71626822301926207)]\n",
      "[ 2.34297362]\n"
     ]
    }
   ],
   "source": [
    "lm = LogisticRegression(solver = 'newton-cg', max_iter = 10000)\n",
    "lm.fit(X1, y)\n",
    "print(zip(X1.columns.values, lm.coef_[0, :]))\n",
    "print(lm.intercept_)"
   ]
  },
  {
   "cell_type": "markdown",
   "metadata": {},
   "source": [
    "It sounds like genetics affects Myopia significantly. Odds of Myopia increases 63.9% and 71.2% with positive case of myopia for Mothers and Fathers respectively. "
   ]
  },
  {
   "cell_type": "markdown",
   "metadata": {},
   "source": [
    "#### Use confusion matrix and estimate False negative rate and False positive rate"
   ]
  },
  {
   "cell_type": "code",
   "execution_count": null,
   "metadata": {
    "collapsed": false
   },
   "outputs": [],
   "source": []
  },
  {
   "cell_type": "code",
   "execution_count": 6,
   "metadata": {
    "collapsed": true
   },
   "outputs": [],
   "source": [
    "def Not_Confusion_Matrix(confmat, ErrType):\n",
    "    TP = confmat[0,0] #True Positive\n",
    "    FP = confmat[1,0] #False Positive\n",
    "    FN = confmat[0,1] #False Negative\n",
    "    TN = confmat[1,1] #True Negative\n",
    "    if ErrType == 'Err':\n",
    "        return float(FP + FN)/(FP + FN + TP + TN)\n",
    "    elif ErrType == 'Acc':\n",
    "        return float(TP + TN)/(FP + FN + TP + TN)\n",
    "    elif ErrType == 'FPR':\n",
    "        return float(FP)/(FP + TN)\n",
    "    elif ErrType == 'TNR':\n",
    "        return float(TN)/(FP + TN)\n",
    "    elif ErrType == 'TPR':\n",
    "        return float(TP)/(FN + TP)\n",
    "    elif ErrType == 'FNR':\n",
    "        return float(FN)/(FN + TP)\n",
    "    else:\n",
    "        print(\"You must input 'Err', 'Acc', 'FPR', 'TNR', 'TPR', or 'FNR' as your input\")\n",
    "        return \"NaN\""
   ]
  },
  {
   "cell_type": "code",
   "execution_count": 7,
   "metadata": {
    "collapsed": false
   },
   "outputs": [],
   "source": [
    "from sklearn.metrics import confusion_matrix\n",
    "y_hat = lm.predict(X1)\n",
    "conf_mat = confusion_matrix(y, y_hat)"
   ]
  },
  {
   "cell_type": "code",
   "execution_count": 8,
   "metadata": {
    "collapsed": false
   },
   "outputs": [
    {
     "name": "stdout",
     "output_type": "stream",
     "text": [
      "False Negative Rate is 0.024209\n",
      "False Positive Rate is 0.654321\n"
     ]
    }
   ],
   "source": [
    "print(\"False Negative Rate is %f\" %(Not_Confusion_Matrix(conf_mat, 'FNR')))\n",
    "print(\"False Positive Rate is %f\" %(Not_Confusion_Matrix(conf_mat, 'FPR')))\n"
   ]
  },
  {
   "cell_type": "markdown",
   "metadata": {},
   "source": [
    "#### Use 10-fold cross-validation to measure accuracy of your predictions"
   ]
  },
  {
   "cell_type": "code",
   "execution_count": 9,
   "metadata": {
    "collapsed": false
   },
   "outputs": [
    {
     "name": "stdout",
     "output_type": "stream",
     "text": [
      "0.883521358482\n"
     ]
    }
   ],
   "source": [
    "print(cross_val_score(lm, X1, y,cv=10).mean()) "
   ]
  },
  {
   "cell_type": "markdown",
   "metadata": {},
   "source": [
    "#### In your dataset, what percentage of cases are myopic?"
   ]
  },
  {
   "cell_type": "code",
   "execution_count": 10,
   "metadata": {
    "collapsed": false
   },
   "outputs": [
    {
     "data": {
      "text/plain": [
       "0.13106796116504854"
      ]
     },
     "execution_count": 10,
     "metadata": {},
     "output_type": "execute_result"
    }
   ],
   "source": [
    "MyopiaData['MYOPIC'].mean() # only 13 percent"
   ]
  },
  {
   "cell_type": "markdown",
   "metadata": {},
   "source": [
    "#### Based on the result you found above, is your prediction precision good or bad?"
   ]
  },
  {
   "cell_type": "markdown",
   "metadata": {},
   "source": [
    "Answer: It is not too impressive. If you would predict no one was myopic, your error would be 13.1% with your current model your error is 11.7%. "
   ]
  },
  {
   "cell_type": "markdown",
   "metadata": {},
   "source": [
    "#### Imagine you would like to decrease your False Positive Rate. Change threshhold and show how FPR, FNR, and total error change by changing Threshhold."
   ]
  },
  {
   "cell_type": "code",
   "execution_count": 11,
   "metadata": {
    "collapsed": false
   },
   "outputs": [],
   "source": [
    "def PredictThreshhold(Predictprob, Threshhold): \n",
    "        y_predict = 0\n",
    "        if (Predictprob >= Threshhold):\n",
    "            y_predict = 1\n",
    "        return y_predict"
   ]
  },
  {
   "cell_type": "code",
   "execution_count": 12,
   "metadata": {
    "collapsed": true
   },
   "outputs": [],
   "source": [
    "y_hat_probability = lm.predict_proba(X1).T[1]\n",
    "ThreshholdRange =  np.linspace(0, 1, 100)"
   ]
  },
  {
   "cell_type": "code",
   "execution_count": 13,
   "metadata": {
    "collapsed": true
   },
   "outputs": [],
   "source": [
    "FPR_List = []\n",
    "FNR_List = []\n",
    "TPR_List = []\n",
    "Err_List = []\n",
    "\n",
    "for i in ThreshholdRange:\n",
    "    y_hat_predict_threshhold = []\n",
    "    for j in range(0,len(y_hat_probability)):\n",
    "            y_hat_predict_threshhold.append(PredictThreshhold(y_hat_probability[j],i))\n",
    "            \n",
    "    confmat = confusion_matrix(y, y_hat_predict_threshhold)\n",
    "    FPR_List.append(Not_Confusion_Matrix(confmat, 'FPR'))\n",
    "    FNR_List.append(Not_Confusion_Matrix(confmat, 'FNR'))\n",
    "    Err_List.append(Not_Confusion_Matrix(confmat, 'Err'))\n",
    "    TPR_List.append(Not_Confusion_Matrix(confmat, 'TPR'))"
   ]
  },
  {
   "cell_type": "code",
   "execution_count": 15,
   "metadata": {
    "collapsed": false
   },
   "outputs": [
    {
     "data": {
      "image/png": "[encoded data removed]",
      "text/plain": [
       "<matplotlib.figure.Figure at 0x10fd8ef50>"
      ]
     },
     "metadata": {},
     "output_type": "display_data"
    }
   ],
   "source": [
    "plt.figure(figsize=(15,10))\n",
    "\n",
    "\n",
    "plt.plot(ThreshholdRange, FPR_List, color = 'r', label = 'False Positive Rate')\n",
    "plt.plot(ThreshholdRange, FNR_List, color = 'b', label = 'False Negative Rate')\n",
    "plt.plot(ThreshholdRange, Err_List, color = 'g', label = 'Total Error')\n",
    "plt.xlabel(\"Threshhold\")\n",
    "plt.ylabel(\"% of Error\")\n",
    "plt.legend()\n",
    "plt.show()"
   ]
  },
  {
   "cell_type": "markdown",
   "metadata": {},
   "source": [
    "Answer: You need easily reduce your Threshhold up to 0.2 wihtout harming Total Error that much. By doing that, you can signifcantly reduce FPR - of course that comes with the cost of increasing FNR. "
   ]
  },
  {
   "cell_type": "markdown",
   "metadata": {},
   "source": [
    "#### Now let's run a logistic regression line on X2 and see if we can confirm our Grandmothers' claims! Use StatsModels api."
   ]
  },
  {
   "cell_type": "code",
   "execution_count": 16,
   "metadata": {
    "collapsed": false
   },
   "outputs": [
    {
     "name": "stdout",
     "output_type": "stream",
     "text": [
      "Optimization terminated successfully.\n",
      "         Current function value: 0.354054\n",
      "         Iterations 17\n"
     ]
    },
    {
     "data": {
      "text/html": [
       "<table class=\"simpletable\">\n",
       "<caption>Logit Regression Results</caption>\n",
       "<tr>\n",
       "  <th>Dep. Variable:</th>      <td>MYOPIC</td>      <th>  No. Observations:  </th>  <td>   618</td>  \n",
       "</tr>\n",
       "<tr>\n",
       "  <th>Model:</th>               <td>Logit</td>      <th>  Df Residuals:      </th>  <td>   608</td>  \n",
       "</tr>\n",
       "<tr>\n",
       "  <th>Method:</th>               <td>MLE</td>       <th>  Df Model:          </th>  <td>     9</td>  \n",
       "</tr>\n",
       "<tr>\n",
       "  <th>Date:</th>          <td>Sun, 10 Jul 2016</td> <th>  Pseudo R-squ.:     </th>  <td>0.08846</td> \n",
       "</tr>\n",
       "<tr>\n",
       "  <th>Time:</th>              <td>20:22:16</td>     <th>  Log-Likelihood:    </th> <td> -218.81</td> \n",
       "</tr>\n",
       "<tr>\n",
       "  <th>converged:</th>           <td>True</td>       <th>  LL-Null:           </th> <td> -240.04</td> \n",
       "</tr>\n",
       "<tr>\n",
       "  <th> </th>                      <td> </td>        <th>  LLR p-value:       </th> <td>2.700e-06</td>\n",
       "</tr>\n",
       "</table>\n",
       "<table class=\"simpletable\">\n",
       "<tr>\n",
       "      <td></td>         <th>coef</th>     <th>std err</th>      <th>z</th>      <th>P>|z|</th> <th>[95.0% Conf. Int.]</th> \n",
       "</tr>\n",
       "<tr>\n",
       "  <th>AGE</th>       <td>    0.2744</td> <td>    0.193</td> <td>    1.423</td> <td> 0.155</td> <td>   -0.104     0.652</td>\n",
       "</tr>\n",
       "<tr>\n",
       "  <th>GENDER</th>    <td>    0.4241</td> <td>    0.265</td> <td>    1.599</td> <td> 0.110</td> <td>   -0.096     0.944</td>\n",
       "</tr>\n",
       "<tr>\n",
       "  <th>SPORTHR</th>   <td>   -0.0425</td> <td>    0.018</td> <td>   -2.329</td> <td> 0.020</td> <td>   -0.078    -0.007</td>\n",
       "</tr>\n",
       "<tr>\n",
       "  <th>READHR</th>    <td>    0.0896</td> <td> 6.01e+05</td> <td> 1.49e-07</td> <td> 1.000</td> <td>-1.18e+06  1.18e+06</td>\n",
       "</tr>\n",
       "<tr>\n",
       "  <th>COMPHR</th>    <td>    0.0295</td> <td> 4.01e+05</td> <td> 7.37e-08</td> <td> 1.000</td> <td>-7.85e+05  7.85e+05</td>\n",
       "</tr>\n",
       "<tr>\n",
       "  <th>STUDYHR</th>   <td>   -0.1104</td> <td> 6.01e+05</td> <td>-1.84e-07</td> <td> 1.000</td> <td>-1.18e+06  1.18e+06</td>\n",
       "</tr>\n",
       "<tr>\n",
       "  <th>TVHR</th>      <td>    0.0048</td> <td>    2e+05</td> <td> 2.38e-08</td> <td> 1.000</td> <td>-3.93e+05  3.93e+05</td>\n",
       "</tr>\n",
       "<tr>\n",
       "  <th>DIOPTERHR</th> <td>    0.0015</td> <td>    2e+05</td> <td> 7.45e-09</td> <td> 1.000</td> <td>-3.93e+05  3.93e+05</td>\n",
       "</tr>\n",
       "<tr>\n",
       "  <th>MOMMY</th>     <td>    0.8701</td> <td>    0.262</td> <td>    3.317</td> <td> 0.001</td> <td>    0.356     1.384</td>\n",
       "</tr>\n",
       "<tr>\n",
       "  <th>DADMY</th>     <td>    1.0250</td> <td>    0.265</td> <td>    3.864</td> <td> 0.000</td> <td>    0.505     1.545</td>\n",
       "</tr>\n",
       "<tr>\n",
       "  <th>Intercept</th> <td>   -4.7493</td> <td>    1.287</td> <td>   -3.689</td> <td> 0.000</td> <td>   -7.273    -2.226</td>\n",
       "</tr>\n",
       "</table>"
      ],
      "text/plain": [
       "<class 'statsmodels.iolib.summary.Summary'>\n",
       "\"\"\"\n",
       "                           Logit Regression Results                           \n",
       "==============================================================================\n",
       "Dep. Variable:                 MYOPIC   No. Observations:                  618\n",
       "Model:                          Logit   Df Residuals:                      608\n",
       "Method:                           MLE   Df Model:                            9\n",
       "Date:                Sun, 10 Jul 2016   Pseudo R-squ.:                 0.08846\n",
       "Time:                        20:22:16   Log-Likelihood:                -218.81\n",
       "converged:                       True   LL-Null:                       -240.04\n",
       "                                        LLR p-value:                 2.700e-06\n",
       "==============================================================================\n",
       "                 coef    std err          z      P>|z|      [95.0% Conf. Int.]\n",
       "------------------------------------------------------------------------------\n",
       "AGE            0.2744      0.193      1.423      0.155        -0.104     0.652\n",
       "GENDER         0.4241      0.265      1.599      0.110        -0.096     0.944\n",
       "SPORTHR       -0.0425      0.018     -2.329      0.020        -0.078    -0.007\n",
       "READHR         0.0896   6.01e+05   1.49e-07      1.000     -1.18e+06  1.18e+06\n",
       "COMPHR         0.0295   4.01e+05   7.37e-08      1.000     -7.85e+05  7.85e+05\n",
       "STUDYHR       -0.1104   6.01e+05  -1.84e-07      1.000     -1.18e+06  1.18e+06\n",
       "TVHR           0.0048      2e+05   2.38e-08      1.000     -3.93e+05  3.93e+05\n",
       "DIOPTERHR      0.0015      2e+05   7.45e-09      1.000     -3.93e+05  3.93e+05\n",
       "MOMMY          0.8701      0.262      3.317      0.001         0.356     1.384\n",
       "DADMY          1.0250      0.265      3.864      0.000         0.505     1.545\n",
       "Intercept     -4.7493      1.287     -3.689      0.000        -7.273    -2.226\n",
       "==============================================================================\n",
       "\"\"\""
      ]
     },
     "execution_count": 16,
     "metadata": {},
     "output_type": "execute_result"
    }
   ],
   "source": [
    "import statsmodels.api as sm\n",
    "MyopiaData['Intercept'] = 1\n",
    "X2 = MyopiaData[['AGE','GENDER','SPORTHR','READHR','COMPHR','STUDYHR','TVHR','DIOPTERHR','MOMMY','DADMY', 'Intercept']]\n",
    "y = MyopiaData['MYOPIC']\n",
    "\n",
    "\n",
    "logit = sm.Logit(y, X2)\n",
    "result = logit.fit()\n",
    "result.summary()"
   ]
  },
  {
   "cell_type": "markdown",
   "metadata": {},
   "source": [
    "#### Interpret your results specifically on StudyHr, TVH, and COMPHR: "
   ]
  },
  {
   "cell_type": "markdown",
   "metadata": {},
   "source": [
    "It seems like keeping everything else constant: TVH, and StudyHr and COMPHR  - Not only are not significant but also if were significant only marginally would affect odds of Myopia.  "
   ]
  },
  {
   "cell_type": "markdown",
   "metadata": {},
   "source": [
    "#### Now it's time for regularization and choosing the best predictors:"
   ]
  },
  {
   "cell_type": "code",
   "execution_count": 17,
   "metadata": {
    "collapsed": true
   },
   "outputs": [],
   "source": [
    "#Let's first standardize our data - use X1\n",
    "def Standardize(X):\n",
    "    X_Max = X.max()\n",
    "    X_Min = X.min()\n",
    "    X_Standardized = (X-X_Min)/(X_Max - X_Min)\n",
    "    return X_Standardized\n",
    "\n",
    "NameOfVariables = ['SPHEQ','AL','ACD','LT','VCD','AGE','GENDER','SPORTHR','READHR','COMPHR','STUDYHR','TVHR','DIOPTERHR','MOMMY','DADMY']\n",
    "for i in NameOfVariables:\n",
    "    MyopiaData[i] = Standardize(MyopiaData[i])\n",
    "    \n",
    "X1 = MyopiaData[NameOfVariables]    "
   ]
  },
  {
   "cell_type": "code",
   "execution_count": 18,
   "metadata": {
    "collapsed": false
   },
   "outputs": [
    {
     "data": {
      "text/plain": [
       "<matplotlib.axes._subplots.AxesSubplot at 0x10103f410>"
      ]
     },
     "execution_count": 18,
     "metadata": {},
     "output_type": "execute_result"
    },
    {
     "data": {
      "image/png": "[encoded data removed]",
      "text/plain": [
       "<matplotlib.figure.Figure at 0x10103fa50>"
      ]
     },
     "metadata": {},
     "output_type": "display_data"
    }
   ],
   "source": [
    "# Try testing and plot using different C as input and l1 penalty\n",
    "c_list = np.logspace(-10,10,21) \n",
    "c_index = np.linspace(-10,10,21)\n",
    "#C is just the inverse of Lambda - the smaller the C - the stronger the\n",
    "#regulatization. The smaller C's choose less variables\n",
    "cv_scores = []\n",
    "for c_score in c_list:\n",
    "    lm = LogisticRegression(C = c_score, penalty = \"l1\")\n",
    "    cv_scores.append(cross_val_score(lm, X1, y,cv=10).mean())\n",
    "\n",
    "\n",
    "C_Choice_df = pd.DataFrame({'cv_scores': cv_scores ,'Log_C': c_index })\n",
    "C_Choice_df.plot(x ='Log_C',y = 'cv_scores' )"
   ]
  },
  {
   "cell_type": "code",
   "execution_count": 19,
   "metadata": {
    "collapsed": false
   },
   "outputs": [
    {
     "data": {
      "text/plain": [
       "<matplotlib.axes._subplots.AxesSubplot at 0x10ea1cf10>"
      ]
     },
     "execution_count": 19,
     "metadata": {},
     "output_type": "execute_result"
    },
    {
     "data": {
      "image/png": "[encoded data removed]",
      "text/plain": [
       "<matplotlib.figure.Figure at 0x112c36c10>"
      ]
     },
     "metadata": {},
     "output_type": "display_data"
    }
   ],
   "source": [
    "# localize your search around the maximum value you found\n",
    "c_list = np.logspace(-1,1,21) \n",
    "c_index = np.linspace(-1,1,21)\n",
    "#C is just the inverse of Lambda - the smaller the C - the stronger the\n",
    "#regulatization. The smaller C's choose less variables\n",
    "cv_scores = []\n",
    "for c_score in c_list:\n",
    "    lm = LogisticRegression(C = c_score, penalty = \"l1\")\n",
    "    cv_scores.append(cross_val_score(lm,X1,y,cv=10).mean())\n",
    "\n",
    "\n",
    "C_Choice_df = pd.DataFrame({'cv_scores': cv_scores ,'Log_C': c_index })\n",
    "C_Choice_df.plot(x ='Log_C',y = 'cv_scores' )\n",
    "# it sounds like our best choice is C = -0.1  (we chose the most restrictive option)"
   ]
  },
  {
   "cell_type": "code",
   "execution_count": 20,
   "metadata": {
    "collapsed": false
   },
   "outputs": [
    {
     "data": {
      "text/plain": [
       "[(-13.565043558255429, 'SPHEQ'),\n",
       " (-0.99777649004690472, 'SPORTHR'),\n",
       " (-0.27338410568304483, 'STUDYHR'),\n",
       " (0.0, 'AGE'),\n",
       " (0.0, 'AL'),\n",
       " (0.0, 'COMPHR'),\n",
       " (0.0, 'DIOPTERHR'),\n",
       " (0.0, 'LT'),\n",
       " (0.0, 'TVHR'),\n",
       " (0.0, 'VCD'),\n",
       " (0.29439376967003572, 'READHR'),\n",
       " (0.53042484888224983, 'GENDER'),\n",
       " (0.64870567385408184, 'MOMMY'),\n",
       " (0.78341473862657784, 'DADMY'),\n",
       " (0.99855540724351532, 'ACD')]"
      ]
     },
     "execution_count": 20,
     "metadata": {},
     "output_type": "execute_result"
    }
   ],
   "source": [
    "lm = LogisticRegression(C = 10**(-.1), penalty = \"l1\")\n",
    "lm.fit(X1,y)\n",
    "Var_coef = zip(lm.coef_[0,:],NameOfVariables)\n",
    "sorted(Var_coef)"
   ]
  },
  {
   "cell_type": "markdown",
   "metadata": {},
   "source": [
    "#### What is your conclusions about your Grandmothers' and some other Drs' claims?"
   ]
  },
  {
   "cell_type": "markdown",
   "metadata": {},
   "source": [
    "Answer: It seems like this claim is not that correct! COMPHR, TVHR, did have minimal effect on chance of Myopia while genetics, ACD, and Gender significantly increased the odds of myopia. To our surprise studyhr and sporthr seems to decrease the odds of myopia. I think this is only correct in our dataset. Our dataset is composed of children under 10. May be those who have eyesight issues do not have that much incentive to involve in sports or may have difficulty studying. "
   ]
  },
  {
   "cell_type": "markdown",
   "metadata": {},
   "source": [
    "#### Draw ROC curve for your best tuned model. "
   ]
  },
  {
   "cell_type": "code",
   "execution_count": 21,
   "metadata": {
    "collapsed": false
   },
   "outputs": [
    {
     "name": "stdout",
     "output_type": "stream",
     "text": [
      "0.889532611444\n"
     ]
    }
   ],
   "source": [
    "from sklearn.metrics import roc_curve, auc,roc_auc_score\n",
    "y_hat_probability = lm.predict_proba(X1).T[1]  #T[1] returns probability of belonging to class\n",
    "print(roc_auc_score(y, y_hat_probability))\n",
    "vals = roc_curve(y, y_hat_probability) "
   ]
  },
  {
   "cell_type": "code",
   "execution_count": 22,
   "metadata": {
    "collapsed": false
   },
   "outputs": [
    {
     "data": {
      "image/png": "[encoded data removed]",
      "text/plain": [
       "<matplotlib.figure.Figure at 0x112c440d0>"
      ]
     },
     "metadata": {},
     "output_type": "display_data"
    }
   ],
   "source": [
    "plt.plot(vals[0], vals[1])\n",
    "plt.xlabel('False Positive Rate')\n",
    "plt.ylabel('True Positive Rate')\n",
    "plt.show()\n"
   ]
  },
  {
   "cell_type": "code",
   "execution_count": null,
   "metadata": {
    "collapsed": true
   },
   "outputs": [],
   "source": []
  }
 ],
 "metadata": {
  "kernelspec": {
   "display_name": "Python 2",
   "language": "python",
   "name": "python2"
  },
  "language_info": {
   "codemirror_mode": {
    "name": "ipython",
    "version": 2
   },
   "file_extension": ".py",
   "mimetype": "text/x-python",
   "name": "python",
   "nbconvert_exporter": "python",
   "pygments_lexer": "ipython2",
   "version": "2.7.11"
  }
 },
 "nbformat": 4,
 "nbformat_minor": 0
}
