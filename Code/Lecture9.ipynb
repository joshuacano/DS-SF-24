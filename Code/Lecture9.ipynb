{
 "cells": [
  {
   "cell_type": "code",
   "execution_count": 1,
   "metadata": {
    "collapsed": true
   },
   "outputs": [],
   "source": [
    "import pandas as pd\n",
    "import numpy as np\n",
    "import matplotlib.pyplot as plt\n",
    "%matplotlib inline"
   ]
  },
  {
   "cell_type": "code",
   "execution_count": 2,
   "metadata": {
    "collapsed": false
   },
   "outputs": [
    {
     "name": "stdout",
     "output_type": "stream",
     "text": [
      "Number of Observations: 4601\n"
     ]
    }
   ],
   "source": [
    "url = \"https://raw.githubusercontent.com/ga-students/DS-SF-24/master/Data/spambase.csv\"\n",
    "SpamData = pd.read_csv(url)\n",
    "print(\"Number of Observations: %i\" %len(SpamData))\n"
   ]
  },
  {
   "cell_type": "code",
   "execution_count": 3,
   "metadata": {
    "collapsed": false
   },
   "outputs": [
    {
     "data": {
      "text/html": [
       "<div>\n",
       "<table border=\"1\" class=\"dataframe\">\n",
       "  <thead>\n",
       "    <tr style=\"text-align: right;\">\n",
       "      <th></th>\n",
       "      <th>word_freq_make</th>\n",
       "      <th>word_freq_address</th>\n",
       "      <th>word_freq_all</th>\n",
       "      <th>word_freq_3d</th>\n",
       "      <th>word_freq_our</th>\n",
       "      <th>word_freq_over</th>\n",
       "      <th>word_freq_remove</th>\n",
       "      <th>word_freq_internet</th>\n",
       "      <th>word_freq_order</th>\n",
       "      <th>word_freq_mail</th>\n",
       "      <th>...</th>\n",
       "      <th>char_freq_;</th>\n",
       "      <th>char_freq_(</th>\n",
       "      <th>char_freq_[</th>\n",
       "      <th>char_freq_!</th>\n",
       "      <th>char_freq_$</th>\n",
       "      <th>char_freq_#</th>\n",
       "      <th>capital_run_length_average</th>\n",
       "      <th>capital_run_length_longest</th>\n",
       "      <th>capital_run_length_total</th>\n",
       "      <th>is_spam</th>\n",
       "    </tr>\n",
       "  </thead>\n",
       "  <tbody>\n",
       "    <tr>\n",
       "      <th>0</th>\n",
       "      <td>0.00</td>\n",
       "      <td>0.64</td>\n",
       "      <td>0.64</td>\n",
       "      <td>0</td>\n",
       "      <td>0.32</td>\n",
       "      <td>0.00</td>\n",
       "      <td>0.00</td>\n",
       "      <td>0.00</td>\n",
       "      <td>0.00</td>\n",
       "      <td>0.00</td>\n",
       "      <td>...</td>\n",
       "      <td>0.00</td>\n",
       "      <td>0.000</td>\n",
       "      <td>0</td>\n",
       "      <td>0.778</td>\n",
       "      <td>0.000</td>\n",
       "      <td>0.000</td>\n",
       "      <td>3.756</td>\n",
       "      <td>61</td>\n",
       "      <td>278</td>\n",
       "      <td>1</td>\n",
       "    </tr>\n",
       "    <tr>\n",
       "      <th>1</th>\n",
       "      <td>0.21</td>\n",
       "      <td>0.28</td>\n",
       "      <td>0.50</td>\n",
       "      <td>0</td>\n",
       "      <td>0.14</td>\n",
       "      <td>0.28</td>\n",
       "      <td>0.21</td>\n",
       "      <td>0.07</td>\n",
       "      <td>0.00</td>\n",
       "      <td>0.94</td>\n",
       "      <td>...</td>\n",
       "      <td>0.00</td>\n",
       "      <td>0.132</td>\n",
       "      <td>0</td>\n",
       "      <td>0.372</td>\n",
       "      <td>0.180</td>\n",
       "      <td>0.048</td>\n",
       "      <td>5.114</td>\n",
       "      <td>101</td>\n",
       "      <td>1028</td>\n",
       "      <td>1</td>\n",
       "    </tr>\n",
       "    <tr>\n",
       "      <th>2</th>\n",
       "      <td>0.06</td>\n",
       "      <td>0.00</td>\n",
       "      <td>0.71</td>\n",
       "      <td>0</td>\n",
       "      <td>1.23</td>\n",
       "      <td>0.19</td>\n",
       "      <td>0.19</td>\n",
       "      <td>0.12</td>\n",
       "      <td>0.64</td>\n",
       "      <td>0.25</td>\n",
       "      <td>...</td>\n",
       "      <td>0.01</td>\n",
       "      <td>0.143</td>\n",
       "      <td>0</td>\n",
       "      <td>0.276</td>\n",
       "      <td>0.184</td>\n",
       "      <td>0.010</td>\n",
       "      <td>9.821</td>\n",
       "      <td>485</td>\n",
       "      <td>2259</td>\n",
       "      <td>1</td>\n",
       "    </tr>\n",
       "    <tr>\n",
       "      <th>3</th>\n",
       "      <td>0.00</td>\n",
       "      <td>0.00</td>\n",
       "      <td>0.00</td>\n",
       "      <td>0</td>\n",
       "      <td>0.63</td>\n",
       "      <td>0.00</td>\n",
       "      <td>0.31</td>\n",
       "      <td>0.63</td>\n",
       "      <td>0.31</td>\n",
       "      <td>0.63</td>\n",
       "      <td>...</td>\n",
       "      <td>0.00</td>\n",
       "      <td>0.137</td>\n",
       "      <td>0</td>\n",
       "      <td>0.137</td>\n",
       "      <td>0.000</td>\n",
       "      <td>0.000</td>\n",
       "      <td>3.537</td>\n",
       "      <td>40</td>\n",
       "      <td>191</td>\n",
       "      <td>1</td>\n",
       "    </tr>\n",
       "    <tr>\n",
       "      <th>4</th>\n",
       "      <td>0.00</td>\n",
       "      <td>0.00</td>\n",
       "      <td>0.00</td>\n",
       "      <td>0</td>\n",
       "      <td>0.63</td>\n",
       "      <td>0.00</td>\n",
       "      <td>0.31</td>\n",
       "      <td>0.63</td>\n",
       "      <td>0.31</td>\n",
       "      <td>0.63</td>\n",
       "      <td>...</td>\n",
       "      <td>0.00</td>\n",
       "      <td>0.135</td>\n",
       "      <td>0</td>\n",
       "      <td>0.135</td>\n",
       "      <td>0.000</td>\n",
       "      <td>0.000</td>\n",
       "      <td>3.537</td>\n",
       "      <td>40</td>\n",
       "      <td>191</td>\n",
       "      <td>1</td>\n",
       "    </tr>\n",
       "  </tbody>\n",
       "</table>\n",
       "<p>5 rows × 58 columns</p>\n",
       "</div>"
      ],
      "text/plain": [
       "   word_freq_make  word_freq_address  word_freq_all  word_freq_3d  \\\n",
       "0            0.00               0.64           0.64             0   \n",
       "1            0.21               0.28           0.50             0   \n",
       "2            0.06               0.00           0.71             0   \n",
       "3            0.00               0.00           0.00             0   \n",
       "4            0.00               0.00           0.00             0   \n",
       "\n",
       "   word_freq_our  word_freq_over  word_freq_remove  word_freq_internet  \\\n",
       "0           0.32            0.00              0.00                0.00   \n",
       "1           0.14            0.28              0.21                0.07   \n",
       "2           1.23            0.19              0.19                0.12   \n",
       "3           0.63            0.00              0.31                0.63   \n",
       "4           0.63            0.00              0.31                0.63   \n",
       "\n",
       "   word_freq_order  word_freq_mail   ...     char_freq_;  char_freq_(  \\\n",
       "0             0.00            0.00   ...            0.00        0.000   \n",
       "1             0.00            0.94   ...            0.00        0.132   \n",
       "2             0.64            0.25   ...            0.01        0.143   \n",
       "3             0.31            0.63   ...            0.00        0.137   \n",
       "4             0.31            0.63   ...            0.00        0.135   \n",
       "\n",
       "   char_freq_[  char_freq_!  char_freq_$  char_freq_#  \\\n",
       "0            0        0.778        0.000        0.000   \n",
       "1            0        0.372        0.180        0.048   \n",
       "2            0        0.276        0.184        0.010   \n",
       "3            0        0.137        0.000        0.000   \n",
       "4            0        0.135        0.000        0.000   \n",
       "\n",
       "   capital_run_length_average  capital_run_length_longest  \\\n",
       "0                       3.756                          61   \n",
       "1                       5.114                         101   \n",
       "2                       9.821                         485   \n",
       "3                       3.537                          40   \n",
       "4                       3.537                          40   \n",
       "\n",
       "   capital_run_length_total  is_spam  \n",
       "0                       278        1  \n",
       "1                      1028        1  \n",
       "2                      2259        1  \n",
       "3                       191        1  \n",
       "4                       191        1  \n",
       "\n",
       "[5 rows x 58 columns]"
      ]
     },
     "execution_count": 3,
     "metadata": {},
     "output_type": "execute_result"
    }
   ],
   "source": [
    "SpamData.head()"
   ]
  },
  {
   "cell_type": "markdown",
   "metadata": {},
   "source": [
    "For the dictionary of this dataset pleaserefer to https://archive.ics.uci.edu/ml/datasets/Spambase"
   ]
  },
  {
   "cell_type": "code",
   "execution_count": 4,
   "metadata": {
    "collapsed": false
   },
   "outputs": [],
   "source": [
    "ListOfAllVariables = SpamData.columns.values\n",
    "X = SpamData[ListOfAllVariables]\n",
    "del X['is_spam']\n",
    "y = SpamData['is_spam']\n"
   ]
  },
  {
   "cell_type": "code",
   "execution_count": 5,
   "metadata": {
    "collapsed": false
   },
   "outputs": [
    {
     "data": {
      "text/plain": [
       "LogisticRegression(C=1.0, class_weight=None, dual=False, fit_intercept=True,\n",
       "          intercept_scaling=1, max_iter=100000, multi_class='ovr',\n",
       "          n_jobs=1, penalty='l2', random_state=None, solver='newton-cg',\n",
       "          tol=0.0001, verbose=0, warm_start=False)"
      ]
     },
     "execution_count": 5,
     "metadata": {},
     "output_type": "execute_result"
    }
   ],
   "source": [
    "from sklearn.linear_model import LogisticRegression\n",
    "lm = LogisticRegression(solver = 'newton-cg', max_iter = 100000)\n",
    "lm.fit(X, y)"
   ]
  },
  {
   "cell_type": "code",
   "execution_count": 6,
   "metadata": {
    "collapsed": false
   },
   "outputs": [
    {
     "name": "stdout",
     "output_type": "stream",
     "text": [
      "0.917812605755\n",
      "0.0821873942447\n"
     ]
    }
   ],
   "source": [
    "from sklearn.cross_validation import cross_val_score\n",
    "print(cross_val_score(lm, X, y,cv=10).mean()) \n",
    "MisClassificationError = 1 - (cross_val_score(lm,X,y,cv=10).mean())\n",
    "print(MisClassificationError)  #our misclassification Error is not bad!"
   ]
  },
  {
   "cell_type": "code",
   "execution_count": 7,
   "metadata": {
    "collapsed": false
   },
   "outputs": [
    {
     "data": {
      "text/plain": [
       "count    4601.000000\n",
       "mean        0.394045\n",
       "std         0.488698\n",
       "min         0.000000\n",
       "25%         0.000000\n",
       "50%         0.000000\n",
       "75%         1.000000\n",
       "max         1.000000\n",
       "Name: is_spam, dtype: float64"
      ]
     },
     "execution_count": 7,
     "metadata": {},
     "output_type": "execute_result"
    }
   ],
   "source": [
    "SpamData['is_spam'].describe() \n",
    "#We love misclassification error even more! (39%) of e-mails were spam"
   ]
  },
  {
   "cell_type": "markdown",
   "metadata": {},
   "source": [
    "#### What is our current intercept?"
   ]
  },
  {
   "cell_type": "code",
   "execution_count": 8,
   "metadata": {
    "collapsed": false
   },
   "outputs": [
    {
     "data": {
      "text/plain": [
       "array([-1.47735014])"
      ]
     },
     "execution_count": 8,
     "metadata": {},
     "output_type": "execute_result"
    }
   ],
   "source": [
    "lm.intercept_"
   ]
  },
  {
   "cell_type": "markdown",
   "metadata": {},
   "source": [
    "### In our current setting 39% of our data was Spam. How would you adjust your model if you knew that in reality only 10% of e-mails are spam?"
   ]
  },
  {
   "cell_type": "code",
   "execution_count": 9,
   "metadata": {
    "collapsed": false
   },
   "outputs": [
    {
     "name": "stdout",
     "output_type": "stream",
     "text": [
      "We only need to adjust the intercept to -3.227262\n"
     ]
    }
   ],
   "source": [
    "Pi = .1\n",
    "Pi_tilda = .39\n",
    "Adjusted_Intercept = lm.intercept_ + np.log(Pi / (1 - Pi)) - np.log(Pi_tilda / (1 - Pi_tilda))\n",
    "\n",
    "print(\"We only need to adjust the intercept to %f\" %Adjusted_Intercept)"
   ]
  },
  {
   "cell_type": "markdown",
   "metadata": {},
   "source": [
    "## How much is our FPR, TPR, TNR, FNR, Error and Accuracy? "
   ]
  },
  {
   "cell_type": "code",
   "execution_count": 10,
   "metadata": {
    "collapsed": false
   },
   "outputs": [
    {
     "data": {
      "text/plain": [
       "array([[2665,  123],\n",
       "       [ 190, 1623]])"
      ]
     },
     "execution_count": 10,
     "metadata": {},
     "output_type": "execute_result"
    }
   ],
   "source": [
    "from sklearn.metrics import confusion_matrix\n",
    "y_hat = lm.predict(X)\n",
    "confusion_matrix(y, y_hat)"
   ]
  },
  {
   "cell_type": "code",
   "execution_count": 12,
   "metadata": {
    "collapsed": true
   },
   "outputs": [],
   "source": [
    "confmat = confusion_matrix(y, y_hat)\n",
    "TP = confmat[0,0] #True Positive\n",
    "FP = confmat[1,0] #False Positive\n",
    "FN = confmat[0,1] #False Negative\n",
    "TN = confmat[1,1] #True Negative"
   ]
  },
  {
   "cell_type": "code",
   "execution_count": 13,
   "metadata": {
    "collapsed": false
   },
   "outputs": [
    {
     "name": "stdout",
     "output_type": "stream",
     "text": [
      "False Positive Rate = 0.104799\n",
      "False Negative Rate = 0.044118\n",
      "True Positive Rate = 0.955882\n",
      "True Negative Rate = 0.895201\n",
      "Misclassification Error = 0.068029\n",
      "Accuracy = 0.931971\n"
     ]
    }
   ],
   "source": [
    "Err = float(FP + FN)/(FP + FN + TP + TN) #Prediction Error\n",
    "Acc = float(TP + TN)/(FP + FN + TP + TN) #Prediction Accuracy\n",
    "FPR = float(FP)/(FP + TN)  #False Positive Rate\n",
    "TNR = float(TN)/(FP + TN)  #True Negative Rate\n",
    "TPR = float(TP)/(FN + TP)  #True Positive Rate\n",
    "FNR = float(FN)/(FN + TP)  #False Negative Rate\n",
    "print(\"False Positive Rate = %f\" %FPR)\n",
    "print(\"False Negative Rate = %f\" %FNR)\n",
    "print(\"True Positive Rate = %f\" %TPR)\n",
    "print(\"True Negative Rate = %f\" %TNR)\n",
    "print(\"Misclassification Error = %f\" %Err)\n",
    "print(\"Accuracy = %f\" %Acc)"
   ]
  },
  {
   "cell_type": "markdown",
   "metadata": {},
   "source": [
    "#### As you can see it is not that hard to get confused by outputs of the confusion matrix! Let's write our own function!"
   ]
  },
  {
   "cell_type": "code",
   "execution_count": 14,
   "metadata": {
    "collapsed": true
   },
   "outputs": [],
   "source": [
    "def Not_Confusion_Matrix(confmat, ErrType):\n",
    "    TP = confmat[0,0] #True Positive\n",
    "    FP = confmat[1,0] #False Positive\n",
    "    FN = confmat[0,1] #False Negative\n",
    "    TN = confmat[1,1] #True Negative\n",
    "    if ErrType == 'Err':\n",
    "        return float(FP + FN)/(FP + FN + TP + TN)\n",
    "    elif ErrType == 'Acc':\n",
    "        return float(TP + TN)/(FP + FN + TP + TN)\n",
    "    elif ErrType == 'FPR':\n",
    "        return float(FP)/(FP + TN)\n",
    "    elif ErrType == 'TNR':\n",
    "        return float(TN)/(FP + TN)\n",
    "    elif ErrType == 'TPR':\n",
    "        return float(TP)/(FN + TP)\n",
    "    elif ErrType == 'FNR':\n",
    "        return float(FN)/(FN + TP)\n",
    "    else:\n",
    "        print(\"You must input 'Err', 'Acc', 'FPR', 'TNR', 'TPR', or 'FNR' as your input\")\n",
    "        return \"NaN\""
   ]
  },
  {
   "cell_type": "code",
   "execution_count": 15,
   "metadata": {
    "collapsed": false
   },
   "outputs": [
    {
     "name": "stdout",
     "output_type": "stream",
     "text": [
      "Err = 0.068029\n",
      "Acc = 0.931971\n",
      "FPR = 0.104799\n",
      "TNR = 0.895201\n",
      "TPR = 0.955882\n",
      "FNR = 0.044118\n"
     ]
    }
   ],
   "source": [
    "InputTypes = ['Err', 'Acc', 'FPR', 'TNR', 'TPR', 'FNR']\n",
    "for i in InputTypes:\n",
    "    print(\"%s = %f\" %(i , Not_Confusion_Matrix(confmat, i)))"
   ]
  },
  {
   "cell_type": "markdown",
   "metadata": {},
   "source": [
    "## Now let's explore threshhold"
   ]
  },
  {
   "cell_type": "code",
   "execution_count": 16,
   "metadata": {
    "collapsed": false
   },
   "outputs": [],
   "source": [
    "def PredictThreshhold(Predictprob, Threshhold): \n",
    "        y_predict = 0\n",
    "        if (Predictprob >= Threshhold):\n",
    "            y_predict = 1\n",
    "        return y_predict\n",
    "   "
   ]
  },
  {
   "cell_type": "code",
   "execution_count": 17,
   "metadata": {
    "collapsed": true
   },
   "outputs": [],
   "source": [
    "y_hat_probability = lm.predict_proba(X).T[1]\n",
    "ThreshholdRange =  np.linspace(0, 1, 100)"
   ]
  },
  {
   "cell_type": "code",
   "execution_count": 18,
   "metadata": {
    "collapsed": false
   },
   "outputs": [],
   "source": [
    "FPR_List = []\n",
    "FNR_List = []\n",
    "TPR_List = []\n",
    "Err_List = []\n",
    "\n",
    "for i in ThreshholdRange:\n",
    "    y_hat_predict_threshhold = []\n",
    "    for j in range(0,len(y_hat_probability)):\n",
    "            y_hat_predict_threshhold.append(PredictThreshhold(y_hat_probability[j],i))\n",
    "            \n",
    "    confmat = confusion_matrix(y, y_hat_predict_threshhold)\n",
    "    FPR_List.append(Not_Confusion_Matrix(confmat, 'FPR'))\n",
    "    FNR_List.append(Not_Confusion_Matrix(confmat, 'FNR'))\n",
    "    Err_List.append(Not_Confusion_Matrix(confmat, 'Err'))\n",
    "    TPR_List.append(Not_Confusion_Matrix(confmat, 'TPR'))\n"
   ]
  },
  {
   "cell_type": "code",
   "execution_count": 19,
   "metadata": {
    "collapsed": false
   },
   "outputs": [
    {
     "data": {
      "image/png": "[encoded data removed]",
      "text/plain": [
       "<matplotlib.figure.Figure at 0x11379df50>"
      ]
     },
     "metadata": {},
     "output_type": "display_data"
    }
   ],
   "source": [
    "plt.figure(figsize=(15,10))\n",
    "\n",
    "plt.plot(ThreshholdRange, FPR_List, color = 'r', label = 'False Positive Rate')\n",
    "plt.plot(ThreshholdRange, FNR_List, color = 'b', label = 'False Negative Rate')\n",
    "plt.plot(ThreshholdRange, Err_List, color = 'g', label = 'Total Error')\n",
    "plt.xlabel(\"Threshhold\")\n",
    "plt.ylabel(\"Error\")\n",
    "plt.legend()\n",
    "plt.show()"
   ]
  },
  {
   "cell_type": "markdown",
   "metadata": {},
   "source": [
    "As you can see in the above graph. Although, total error is minimized at Threshhold = 0.5, it was pretty flat from Thresshold = 0.2 to Thresshold = 0.7. So, if our goal is to minimize False Positive rate while not damage total error that much, we could reduce Thresshold to 0.2. On the other hand, if our goal was minimizing false negatives while keeping total error low, we would set our threshhold close to 0.7 or even 0.75."
   ]
  },
  {
   "cell_type": "markdown",
   "metadata": {},
   "source": [
    "### To clarify, let's check confusion matrix for Threshhold = 0.2, 0.5, and 0.75"
   ]
  },
  {
   "cell_type": "code",
   "execution_count": 20,
   "metadata": {
    "collapsed": false
   },
   "outputs": [
    {
     "name": "stdout",
     "output_type": "stream",
     "text": [
      "[[2316  472]\n",
      " [  48 1765]]\n"
     ]
    }
   ],
   "source": [
    "# Set Thresshold = 0.2\n",
    "y_hat_predict_threshhold= []\n",
    "for i in range(0,len(y_hat_probability)):\n",
    "        y_hat_predict_threshhold.append(PredictThreshhold(y_hat_probability[i], .2))\n",
    "print(confusion_matrix(y, y_hat_predict_threshhold))"
   ]
  },
  {
   "cell_type": "code",
   "execution_count": 21,
   "metadata": {
    "collapsed": false
   },
   "outputs": [
    {
     "name": "stdout",
     "output_type": "stream",
     "text": [
      "[[2665  123]\n",
      " [ 190 1623]]\n"
     ]
    }
   ],
   "source": [
    "# Set Thresshold = 0.5\n",
    "\n",
    "y_hat_predict_threshhold= []\n",
    "for i in range(0,len(y_hat_probability)):\n",
    "        y_hat_predict_threshhold.append(PredictThreshhold(y_hat_probability[i], .5))\n",
    "print(confusion_matrix(y, y_hat_predict_threshhold))"
   ]
  },
  {
   "cell_type": "code",
   "execution_count": 22,
   "metadata": {
    "collapsed": false
   },
   "outputs": [
    {
     "name": "stdout",
     "output_type": "stream",
     "text": [
      "[[2725   63]\n",
      " [ 404 1409]]\n"
     ]
    }
   ],
   "source": [
    "# Set Thresshold = 0.75\n",
    "\n",
    "y_hat_predict_threshhold= []\n",
    "for i in range(0,len(y_hat_probability)):\n",
    "        y_hat_predict_threshhold.append(PredictThreshhold(y_hat_probability[i], .75))\n",
    "print(confusion_matrix(y, y_hat_predict_threshhold))"
   ]
  },
  {
   "cell_type": "markdown",
   "metadata": {},
   "source": [
    "# ROC Curves\n"
   ]
  },
  {
   "cell_type": "markdown",
   "metadata": {},
   "source": [
    "#### First Approach: Using the results of our own function. Remember ROC is FPR vs TPR"
   ]
  },
  {
   "cell_type": "code",
   "execution_count": 23,
   "metadata": {
    "collapsed": false
   },
   "outputs": [
    {
     "data": {
      "image/png": "[encoded data removed]",
      "text/plain": [
       "<matplotlib.figure.Figure at 0x1139ed410>"
      ]
     },
     "metadata": {},
     "output_type": "display_data"
    }
   ],
   "source": [
    "plt.plot(FPR_List, TPR_List)\n",
    "plt.xlabel(\"False Positive Rate\")\n",
    "plt.ylabel(\"True Positive Rate\")\n",
    "plt.show()\n"
   ]
  },
  {
   "cell_type": "markdown",
   "metadata": {},
   "source": [
    "#### Second Approach: Using Python libraries \n",
    "Read more about ROC curves in puthon [here](http://scikit-learn.org/stable/modules/generated/sklearn.metrics.roc_curve.html)"
   ]
  },
  {
   "cell_type": "code",
   "execution_count": 24,
   "metadata": {
    "collapsed": false
   },
   "outputs": [
    {
     "name": "stdout",
     "output_type": "stream",
     "text": [
      "[ 0.59860371  0.97453442  0.99998117 ...,  0.03483669  0.09626789\n",
      "  0.04320134]\n",
      "AUC is 0.975719 \n"
     ]
    }
   ],
   "source": [
    "from sklearn.metrics import roc_curve, auc,roc_auc_score\n",
    "y_hat_probability = lm.predict_proba(X).T[1]  \n",
    "#T means Transpose\n",
    "#predict_proba(X).T[1] returns probability of belongingness to a class\n",
    "\n",
    "print(y_hat_probability)\n",
    "print(\"AUC is %f \" %roc_auc_score(y, y_hat_probability)) \n",
    "#This is excellent\n",
    "\n",
    "vals = roc_curve(y, y_hat_probability) \n",
    "#vals[0] is False Positive Rate\n",
    "#vals[1] is True Positive Rate"
   ]
  },
  {
   "cell_type": "markdown",
   "metadata": {},
   "source": [
    "# Now Let's plot ROC Curves"
   ]
  },
  {
   "cell_type": "code",
   "execution_count": 25,
   "metadata": {
    "collapsed": false
   },
   "outputs": [
    {
     "data": {
      "image/png": "[encoded data removed]",
      "text/plain": [
       "<matplotlib.figure.Figure at 0x11408f350>"
      ]
     },
     "metadata": {},
     "output_type": "display_data"
    }
   ],
   "source": [
    "plt.plot(vals[0], vals[1])\n",
    "plt.xlabel('False Positive Rate')\n",
    "plt.ylabel('True Positive Rate')\n",
    "plt.show()"
   ]
  },
  {
   "cell_type": "markdown",
   "metadata": {},
   "source": [
    "# Bonus section: Now let's find out the most important variables"
   ]
  },
  {
   "cell_type": "code",
   "execution_count": 26,
   "metadata": {
    "collapsed": false
   },
   "outputs": [],
   "source": [
    "# let's first standardize our data\n",
    "def Standardize(X):\n",
    "    X_Max = X.max()\n",
    "    X_Min = X.min()\n",
    "    X_Standardized = (X-X_Min)/(X_Max - X_Min)\n",
    "    return X_Standardized\n",
    "\n",
    "NameOfVariables = X.columns.values\n",
    "for i in NameOfVariables:\n",
    "    SpamData[i] = Standardize(SpamData[i])\n",
    "X = SpamData[ListOfAllVariables]\n",
    "del X['is_spam']  "
   ]
  },
  {
   "cell_type": "code",
   "execution_count": 27,
   "metadata": {
    "collapsed": false
   },
   "outputs": [
    {
     "data": {
      "image/png": "[encoded data removed]",
      "text/plain": [
       "<matplotlib.figure.Figure at 0x114184550>"
      ]
     },
     "metadata": {},
     "output_type": "display_data"
    }
   ],
   "source": [
    "# Try testing and plot\n",
    "c_list = np.logspace(-10,10,21) \n",
    "c_index = np.linspace(-10,10,21)\n",
    "#C is just the inverse of Lambda - the smaller the C - the stronger the\n",
    "#regulatization. The smaller C's select less variables\n",
    "cv_scores = []\n",
    "for c_score in c_list:\n",
    "    lm = LogisticRegression(C = c_score, penalty = \"l1\")\n",
    "    cv_scores.append(cross_val_score(lm, X, y, cv=10, scoring = 'accuracy').mean())\n",
    "\n",
    "plt.plot(c_index, cv_scores)\n",
    "plt.xlabel(\"Log_C\")\n",
    "plt.ylabel(\"Cross-Validation Score\")\n",
    "plt.show()\n",
    "\n"
   ]
  },
  {
   "cell_type": "code",
   "execution_count": 28,
   "metadata": {
    "collapsed": false
   },
   "outputs": [
    {
     "data": {
      "image/png": "[encoded data removed]",
      "text/plain": [
       "<matplotlib.figure.Figure at 0x114319c10>"
      ]
     },
     "metadata": {},
     "output_type": "display_data"
    }
   ],
   "source": [
    "# Try testing and plot\n",
    "c_list = np.logspace(-1,2,20) \n",
    "c_index = np.linspace(-1,2,20)\n",
    "#C is just the inverse of Lambda - the smaller the C - the stronger the\n",
    "#regulatization. The smaller C's choose less variables\n",
    "cv_scores = []\n",
    "for c_score in c_list:\n",
    "    lm = LogisticRegression(C = c_score, penalty = \"l1\")\n",
    "    cv_scores.append(cross_val_score(lm,X,y,cv=10).mean())\n",
    "\n",
    "plt.plot(c_index, cv_scores)\n",
    "plt.xlabel(\"Log_C\")\n",
    "plt.ylabel(\"Cross-Validation Score\")\n",
    "plt.show()\n"
   ]
  },
  {
   "cell_type": "code",
   "execution_count": 29,
   "metadata": {
    "collapsed": false
   },
   "outputs": [
    {
     "data": {
      "text/plain": [
       "array([[ -1.47102707e+00,  -2.04439415e+00,   7.44210639e-01,\n",
       "          1.13347307e+01,   5.54922740e+00,   4.46096974e+00,\n",
       "          1.69411522e+01,   6.22241226e+00,   3.43102279e+00,\n",
       "          2.09275383e+00,  -4.76692638e-01,  -1.40778193e+00,\n",
       "         -2.65612346e-01,   1.14926800e+00,   5.10867009e+00,\n",
       "          2.03297141e+01,   6.52779621e+00,   1.18175847e+00,\n",
       "          1.52548934e+00,   1.37659200e+01,   2.68277884e+00,\n",
       "          5.05494052e+00,   1.24560938e+01,   6.20767972e+00,\n",
       "         -3.81204632e+01,  -1.52789324e+01,  -1.41444250e+02,\n",
       "          3.30390019e+00,  -1.83953338e+01,  -1.81946077e+00,\n",
       "         -1.11997253e+00,   0.00000000e+00,  -1.38591265e+01,\n",
       "          0.00000000e+00,  -1.89551385e+01,   6.18756436e+00,\n",
       "         -2.61608581e-02,  -3.83266287e+00,  -7.64690957e+00,\n",
       "         -1.11657280e+00,  -4.01982082e+01,  -2.70137047e+01,\n",
       "         -3.34919045e+00,  -2.31453989e+01,  -1.52623102e+01,\n",
       "         -2.91781551e+01,  -4.10758851e+00,  -2.36506233e+01,\n",
       "         -5.33161020e+00,  -1.15782555e+00,  -2.04652613e+00,\n",
       "          1.21908105e+01,   3.05792834e+01,   1.76162931e+01,\n",
       "          0.00000000e+00,   4.90536432e+01,   1.12197768e+01]])"
      ]
     },
     "execution_count": 29,
     "metadata": {},
     "output_type": "execute_result"
    }
   ],
   "source": [
    "lm = LogisticRegression(C = 10**(1), penalty = \"l1\")\n",
    "lm.fit(X,y)\n",
    "lm.coef_\n"
   ]
  },
  {
   "cell_type": "code",
   "execution_count": 30,
   "metadata": {
    "collapsed": false
   },
   "outputs": [
    {
     "data": {
      "text/plain": [
       "[(-141.44424965631325, 'word_freq_george'),\n",
       " (-40.19820823132072, 'word_freq_cs'),\n",
       " (-38.120463192178455, 'word_freq_hp'),\n",
       " (-29.178155130624091, 'word_freq_edu'),\n",
       " (-27.013704673406643, 'word_freq_meeting'),\n",
       " (-23.650623322117674, 'word_freq_conference'),\n",
       " (-23.14539891928553, 'word_freq_project'),\n",
       " (-18.955138533150517, 'word_freq_85'),\n",
       " (-18.395333825080037, 'word_freq_lab'),\n",
       " (-15.278932418290669, 'word_freq_hpl'),\n",
       " (-15.262310207148872, 'word_freq_re'),\n",
       " (-13.85912652188426, 'word_freq_data'),\n",
       " (-7.6469095723164413, 'word_freq_pm'),\n",
       " (-5.331610197651738, 'char_freq_;'),\n",
       " (-4.1075885102009178, 'word_freq_table'),\n",
       " (-3.8326628689461506, 'word_freq_parts'),\n",
       " (-3.3491904542844053, 'word_freq_original'),\n",
       " (-2.0465261296070976, 'char_freq_['),\n",
       " (-2.0443941493853042, 'word_freq_address'),\n",
       " (-1.8194607715412789, 'word_freq_labs'),\n",
       " (-1.4710270672263976, 'word_freq_make'),\n",
       " (-1.4077819276400148, 'word_freq_will'),\n",
       " (-1.1578255458661983, 'char_freq_('),\n",
       " (-1.1199725292133775, 'word_freq_telnet'),\n",
       " (-1.1165727993723384, 'word_freq_direct'),\n",
       " (-0.476692638101125, 'word_freq_receive'),\n",
       " (-0.26561234552097185, 'word_freq_people'),\n",
       " (-0.026160858082864287, 'word_freq_1999'),\n",
       " (0.0, 'capital_run_length_average'),\n",
       " (0.0, 'word_freq_415'),\n",
       " (0.0, 'word_freq_857'),\n",
       " (0.74421063874052096, 'word_freq_all'),\n",
       " (1.1492679979976426, 'word_freq_report'),\n",
       " (1.1817584705866662, 'word_freq_email'),\n",
       " (1.5254893355907568, 'word_freq_you'),\n",
       " (2.0927538257420544, 'word_freq_mail'),\n",
       " (2.6827788423566035, 'word_freq_your'),\n",
       " (3.3039001905132288, 'word_freq_650'),\n",
       " (3.4310227865789718, 'word_freq_order'),\n",
       " (4.4609697358471472, 'word_freq_over'),\n",
       " (5.0549405157321665, 'word_freq_font'),\n",
       " (5.1086700934733154, 'word_freq_addresses'),\n",
       " (5.5492274044156655, 'word_freq_our'),\n",
       " (6.1875643553591821, 'word_freq_technology'),\n",
       " (6.2076797221455706, 'word_freq_money'),\n",
       " (6.2224122571183074, 'word_freq_internet'),\n",
       " (6.5277962133661198, 'word_freq_business'),\n",
       " (11.219776783186537, 'capital_run_length_total'),\n",
       " (11.334730676292638, 'word_freq_3d'),\n",
       " (12.190810487812353, 'char_freq_!'),\n",
       " (12.456093768332911, 'word_freq_000'),\n",
       " (13.76592003952495, 'word_freq_credit'),\n",
       " (16.941152156541602, 'word_freq_remove'),\n",
       " (17.616293110191879, 'char_freq_#'),\n",
       " (20.329714105268994, 'word_freq_free'),\n",
       " (30.579283367455744, 'char_freq_$'),\n",
       " (49.053643239187565, 'capital_run_length_longest')]"
      ]
     },
     "execution_count": 30,
     "metadata": {},
     "output_type": "execute_result"
    }
   ],
   "source": [
    "Var_coef = zip(lm.coef_[0,:],NameOfVariables)\n",
    "sorted(Var_coef)"
   ]
  },
  {
   "cell_type": "markdown",
   "metadata": {},
   "source": [
    "It seems like char_freq_$ has the highest effect on an email be a spam, the next word that highly affects the probability of spam is remove, followed by  free, #, remove, credit, 000 etc.\n",
    "\n",
    "The most unlikely characters that are in spam emails are george, cs, hp, edu, meeting, etc.. \n"
   ]
  },
  {
   "cell_type": "markdown",
   "metadata": {},
   "source": [
    "#### Now let's look at ROC, AUC, confusion matrix of our optimal model"
   ]
  },
  {
   "cell_type": "code",
   "execution_count": 31,
   "metadata": {
    "collapsed": false
   },
   "outputs": [
    {
     "data": {
      "text/plain": [
       "array([[2668,  120],\n",
       "       [ 194, 1619]])"
      ]
     },
     "execution_count": 31,
     "metadata": {},
     "output_type": "execute_result"
    }
   ],
   "source": [
    "y_hat = lm.predict(X)\n",
    "confusion_matrix(y, y_hat)"
   ]
  },
  {
   "cell_type": "code",
   "execution_count": 32,
   "metadata": {
    "collapsed": false
   },
   "outputs": [
    {
     "name": "stdout",
     "output_type": "stream",
     "text": [
      "0.976196839975\n"
     ]
    },
    {
     "data": {
      "image/png": "[encoded data removed]",
      "text/plain": [
       "<matplotlib.figure.Figure at 0x1141abcd0>"
      ]
     },
     "metadata": {},
     "output_type": "display_data"
    }
   ],
   "source": [
    "y_hat_probability = lm.predict_proba(X).T[1]  #T[1] returns probability of belonging to class\n",
    "print(roc_auc_score(y, y_hat_probability))\n",
    "vals = roc_curve(y, y_hat_probability)\n",
    "\n",
    "plt.plot(vals[0], vals[1])\n",
    "plt.xlabel('False Positive Rate')\n",
    "plt.ylabel('True Positive Rate')\n",
    "plt.show()"
   ]
  },
  {
   "cell_type": "code",
   "execution_count": null,
   "metadata": {
    "collapsed": true
   },
   "outputs": [],
   "source": []
  }
 ],
 "metadata": {
  "kernelspec": {
   "display_name": "Python 2",
   "language": "python",
   "name": "python2"
  },
  "language_info": {
   "codemirror_mode": {
    "name": "ipython",
    "version": 2
   },
   "file_extension": ".py",
   "mimetype": "text/x-python",
   "name": "python",
   "nbconvert_exporter": "python",
   "pygments_lexer": "ipython2",
   "version": "2.7.11"
  }
 },
 "nbformat": 4,
 "nbformat_minor": 0
}
